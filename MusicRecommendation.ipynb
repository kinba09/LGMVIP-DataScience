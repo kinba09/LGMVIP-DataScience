{
  "cells": [
    {
      "cell_type": "markdown",
      "metadata": {
        "id": "view-in-github",
        "colab_type": "text"
      },
      "source": [
        "<a href=\"https://colab.research.google.com/github/kinba09/LGMVIP-DataScience/blob/main/MusicRecommendation.ipynb\" target=\"_parent\"><img src=\"https://colab.research.google.com/assets/colab-badge.svg\" alt=\"Open In Colab\"/></a>"
      ]
    },
    {
      "cell_type": "code",
      "execution_count": null,
      "id": "69a159cf",
      "metadata": {
        "colab": {
          "base_uri": "https://localhost:8080/"
        },
        "id": "69a159cf",
        "outputId": "0241f31c-d86c-4dda-d834-b9a2bfcbd61e"
      },
      "outputs": [
        {
          "output_type": "stream",
          "name": "stdout",
          "text": [
            "Collecting py7zr\n",
            "  Downloading py7zr-0.20.6-py3-none-any.whl (66 kB)\n",
            "\u001b[?25l     \u001b[90m━━━━━━━━━━━━━━━━━━━━━━━━━━━━━━━━━━━━━━━━\u001b[0m \u001b[32m0.0/66.7 kB\u001b[0m \u001b[31m?\u001b[0m eta \u001b[36m-:--:--\u001b[0m\r\u001b[2K     \u001b[91m━━━━━━━━━━━━━━━━━━━━━━━━━━━━━━━━━━━━\u001b[0m\u001b[91m╸\u001b[0m\u001b[90m━━━\u001b[0m \u001b[32m61.4/66.7 kB\u001b[0m \u001b[31m2.0 MB/s\u001b[0m eta \u001b[36m0:00:01\u001b[0m\r\u001b[2K     \u001b[90m━━━━━━━━━━━━━━━━━━━━━━━━━━━━━━━━━━━━━━━━\u001b[0m \u001b[32m66.7/66.7 kB\u001b[0m \u001b[31m1.7 MB/s\u001b[0m eta \u001b[36m0:00:00\u001b[0m\n",
            "\u001b[?25hCollecting texttable (from py7zr)\n",
            "  Downloading texttable-1.6.7-py2.py3-none-any.whl (10 kB)\n",
            "Collecting pycryptodomex>=3.6.6 (from py7zr)\n",
            "  Downloading pycryptodomex-3.18.0-cp35-abi3-manylinux_2_17_x86_64.manylinux2014_x86_64.whl (2.1 MB)\n",
            "\u001b[2K     \u001b[90m━━━━━━━━━━━━━━━━━━━━━━━━━━━━━━━━━━━━━━━━\u001b[0m \u001b[32m2.1/2.1 MB\u001b[0m \u001b[31m38.0 MB/s\u001b[0m eta \u001b[36m0:00:00\u001b[0m\n",
            "\u001b[?25hCollecting pyzstd>=0.14.4 (from py7zr)\n",
            "  Downloading pyzstd-0.15.9-cp310-cp310-manylinux_2_17_x86_64.manylinux2014_x86_64.whl (412 kB)\n",
            "\u001b[2K     \u001b[90m━━━━━━━━━━━━━━━━━━━━━━━━━━━━━━━━━━━━━━\u001b[0m \u001b[32m412.3/412.3 kB\u001b[0m \u001b[31m20.7 MB/s\u001b[0m eta \u001b[36m0:00:00\u001b[0m\n",
            "\u001b[?25hCollecting pyppmd<1.1.0,>=0.18.1 (from py7zr)\n",
            "  Downloading pyppmd-1.0.0-cp310-cp310-manylinux_2_17_x86_64.manylinux2014_x86_64.whl (138 kB)\n",
            "\u001b[2K     \u001b[90m━━━━━━━━━━━━━━━━━━━━━━━━━━━━━━━━━━━━━━\u001b[0m \u001b[32m138.8/138.8 kB\u001b[0m \u001b[31m16.1 MB/s\u001b[0m eta \u001b[36m0:00:00\u001b[0m\n",
            "\u001b[?25hCollecting pybcj>=0.6.0 (from py7zr)\n",
            "  Downloading pybcj-1.0.1-cp310-cp310-manylinux_2_17_x86_64.manylinux2014_x86_64.whl (49 kB)\n",
            "\u001b[2K     \u001b[90m━━━━━━━━━━━━━━━━━━━━━━━━━━━━━━━━━━━━━━━━\u001b[0m \u001b[32m49.8/49.8 kB\u001b[0m \u001b[31m5.8 MB/s\u001b[0m eta \u001b[36m0:00:00\u001b[0m\n",
            "\u001b[?25hCollecting multivolumefile>=0.2.3 (from py7zr)\n",
            "  Downloading multivolumefile-0.2.3-py3-none-any.whl (17 kB)\n",
            "Collecting brotli>=1.0.9 (from py7zr)\n",
            "  Downloading Brotli-1.0.9-cp310-cp310-manylinux_2_5_x86_64.manylinux1_x86_64.manylinux_2_12_x86_64.manylinux2010_x86_64.whl (2.7 MB)\n",
            "\u001b[2K     \u001b[90m━━━━━━━━━━━━━━━━━━━━━━━━━━━━━━━━━━━━━━━━\u001b[0m \u001b[32m2.7/2.7 MB\u001b[0m \u001b[31m73.3 MB/s\u001b[0m eta \u001b[36m0:00:00\u001b[0m\n",
            "\u001b[?25hCollecting inflate64>=0.3.1 (from py7zr)\n",
            "  Downloading inflate64-0.3.1-cp310-cp310-manylinux_2_17_x86_64.manylinux2014_x86_64.whl (93 kB)\n",
            "\u001b[2K     \u001b[90m━━━━━━━━━━━━━━━━━━━━━━━━━━━━━━━━━━━━━━━━\u001b[0m \u001b[32m93.1/93.1 kB\u001b[0m \u001b[31m10.8 MB/s\u001b[0m eta \u001b[36m0:00:00\u001b[0m\n",
            "\u001b[?25hRequirement already satisfied: psutil in /usr/local/lib/python3.10/dist-packages (from py7zr) (5.9.5)\n",
            "Installing collected packages: texttable, brotli, pyzstd, pyppmd, pycryptodomex, pybcj, multivolumefile, inflate64, py7zr\n",
            "Successfully installed brotli-1.0.9 inflate64-0.3.1 multivolumefile-0.2.3 py7zr-0.20.6 pybcj-1.0.1 pycryptodomex-3.18.0 pyppmd-1.0.0 pyzstd-0.15.9 texttable-1.6.7\n"
          ]
        }
      ],
      "source": [
        "!pip install py7zr"
      ]
    },
    {
      "cell_type": "code",
      "execution_count": null,
      "id": "285f3266",
      "metadata": {
        "colab": {
          "base_uri": "https://localhost:8080/"
        },
        "id": "285f3266",
        "outputId": "5b1ced16-311f-4b1b-957a-3f53b71628d7"
      },
      "outputs": [
        {
          "output_type": "stream",
          "name": "stdout",
          "text": [
            "Requirement already satisfied: xgboost in /usr/local/lib/python3.10/dist-packages (1.7.6)\n",
            "Requirement already satisfied: numpy in /usr/local/lib/python3.10/dist-packages (from xgboost) (1.23.5)\n",
            "Requirement already satisfied: scipy in /usr/local/lib/python3.10/dist-packages (from xgboost) (1.10.1)\n"
          ]
        }
      ],
      "source": [
        "pip install xgboost"
      ]
    },
    {
      "cell_type": "code",
      "execution_count": null,
      "id": "d7f6a165",
      "metadata": {
        "id": "d7f6a165"
      },
      "outputs": [],
      "source": [
        "import os\n",
        "import py7zr\n",
        "import pandas as pd\n",
        "import xgboost as xgb\n",
        "import numpy as np\n",
        "import seaborn as sns\n",
        "import matplotlib.pyplot as plt\n",
        "import matplotlib as mpl\n",
        "import warnings\n",
        "plt.style.use('ggplot')\n",
        "from sklearn.model_selection import train_test_split"
      ]
    },
    {
      "cell_type": "code",
      "execution_count": null,
      "id": "c0c2656c",
      "metadata": {
        "colab": {
          "base_uri": "https://localhost:8080/"
        },
        "id": "c0c2656c",
        "outputId": "951b278b-b36e-4b93-a263-665f25a4c0db"
      },
      "outputs": [
        {
          "output_type": "stream",
          "name": "stdout",
          "text": [
            "Collecting pyunpack\n",
            "  Downloading pyunpack-0.3-py2.py3-none-any.whl (4.1 kB)\n",
            "Collecting easyprocess (from pyunpack)\n",
            "  Downloading EasyProcess-1.1-py3-none-any.whl (8.7 kB)\n",
            "Collecting entrypoint2 (from pyunpack)\n",
            "  Downloading entrypoint2-1.1-py2.py3-none-any.whl (9.9 kB)\n",
            "Installing collected packages: entrypoint2, easyprocess, pyunpack\n",
            "Successfully installed easyprocess-1.1 entrypoint2-1.1 pyunpack-0.3\n",
            "Collecting patool\n",
            "  Downloading patool-1.12-py2.py3-none-any.whl (77 kB)\n",
            "\u001b[2K     \u001b[90m━━━━━━━━━━━━━━━━━━━━━━━━━━━━━━━━━━━━━━━━\u001b[0m \u001b[32m77.5/77.5 kB\u001b[0m \u001b[31m1.8 MB/s\u001b[0m eta \u001b[36m0:00:00\u001b[0m\n",
            "\u001b[?25hInstalling collected packages: patool\n",
            "Successfully installed patool-1.12\n"
          ]
        }
      ],
      "source": [
        "os.system('apt-get install p7zip')\n",
        "!pip install pyunpack\n",
        "!pip install patool\n",
        "from pyunpack.cli import Archive"
      ]
    },
    {
      "cell_type": "code",
      "execution_count": null,
      "id": "acd04b2f",
      "metadata": {
        "id": "acd04b2f"
      },
      "outputs": [],
      "source": [
        "train = pd.read_csv('train.csv')"
      ]
    },
    {
      "cell_type": "code",
      "execution_count": null,
      "id": "9dd15283",
      "metadata": {
        "id": "9dd15283",
        "outputId": "09e833dc-9d73-4c39-c1a6-4dcf40863247"
      },
      "outputs": [
        {
          "data": {
            "text/html": [
              "<div>\n",
              "<style scoped>\n",
              "    .dataframe tbody tr th:only-of-type {\n",
              "        vertical-align: middle;\n",
              "    }\n",
              "\n",
              "    .dataframe tbody tr th {\n",
              "        vertical-align: top;\n",
              "    }\n",
              "\n",
              "    .dataframe thead th {\n",
              "        text-align: right;\n",
              "    }\n",
              "</style>\n",
              "<table border=\"1\" class=\"dataframe\">\n",
              "  <thead>\n",
              "    <tr style=\"text-align: right;\">\n",
              "      <th></th>\n",
              "      <th>msno</th>\n",
              "      <th>song_id</th>\n",
              "      <th>source_system_tab</th>\n",
              "      <th>source_screen_name</th>\n",
              "      <th>source_type</th>\n",
              "      <th>target</th>\n",
              "    </tr>\n",
              "  </thead>\n",
              "  <tbody>\n",
              "    <tr>\n",
              "      <th>0</th>\n",
              "      <td>FGtllVqz18RPiwJj/edr2gV78zirAiY/9SmYvia+kCg=</td>\n",
              "      <td>BBzumQNXUHKdEBOB7mAJuzok+IJA1c2Ryg/yzTF6tik=</td>\n",
              "      <td>explore</td>\n",
              "      <td>Explore</td>\n",
              "      <td>online-playlist</td>\n",
              "      <td>1</td>\n",
              "    </tr>\n",
              "    <tr>\n",
              "      <th>1</th>\n",
              "      <td>Xumu+NIjS6QYVxDS4/t3SawvJ7viT9hPKXmf0RtLNx8=</td>\n",
              "      <td>bhp/MpSNoqoxOIB+/l8WPqu6jldth4DIpCm3ayXnJqM=</td>\n",
              "      <td>my library</td>\n",
              "      <td>Local playlist more</td>\n",
              "      <td>local-playlist</td>\n",
              "      <td>1</td>\n",
              "    </tr>\n",
              "    <tr>\n",
              "      <th>2</th>\n",
              "      <td>Xumu+NIjS6QYVxDS4/t3SawvJ7viT9hPKXmf0RtLNx8=</td>\n",
              "      <td>JNWfrrC7zNN7BdMpsISKa4Mw+xVJYNnxXh3/Epw7QgY=</td>\n",
              "      <td>my library</td>\n",
              "      <td>Local playlist more</td>\n",
              "      <td>local-playlist</td>\n",
              "      <td>1</td>\n",
              "    </tr>\n",
              "    <tr>\n",
              "      <th>3</th>\n",
              "      <td>Xumu+NIjS6QYVxDS4/t3SawvJ7viT9hPKXmf0RtLNx8=</td>\n",
              "      <td>2A87tzfnJTSWqD7gIZHisolhe4DMdzkbd6LzO1KHjNs=</td>\n",
              "      <td>my library</td>\n",
              "      <td>Local playlist more</td>\n",
              "      <td>local-playlist</td>\n",
              "      <td>1</td>\n",
              "    </tr>\n",
              "    <tr>\n",
              "      <th>4</th>\n",
              "      <td>FGtllVqz18RPiwJj/edr2gV78zirAiY/9SmYvia+kCg=</td>\n",
              "      <td>3qm6XTZ6MOCU11x8FIVbAGH5l5uMkT3/ZalWG1oo2Gc=</td>\n",
              "      <td>explore</td>\n",
              "      <td>Explore</td>\n",
              "      <td>online-playlist</td>\n",
              "      <td>1</td>\n",
              "    </tr>\n",
              "  </tbody>\n",
              "</table>\n",
              "</div>"
            ],
            "text/plain": [
              "                                           msno  \\\n",
              "0  FGtllVqz18RPiwJj/edr2gV78zirAiY/9SmYvia+kCg=   \n",
              "1  Xumu+NIjS6QYVxDS4/t3SawvJ7viT9hPKXmf0RtLNx8=   \n",
              "2  Xumu+NIjS6QYVxDS4/t3SawvJ7viT9hPKXmf0RtLNx8=   \n",
              "3  Xumu+NIjS6QYVxDS4/t3SawvJ7viT9hPKXmf0RtLNx8=   \n",
              "4  FGtllVqz18RPiwJj/edr2gV78zirAiY/9SmYvia+kCg=   \n",
              "\n",
              "                                        song_id source_system_tab  \\\n",
              "0  BBzumQNXUHKdEBOB7mAJuzok+IJA1c2Ryg/yzTF6tik=           explore   \n",
              "1  bhp/MpSNoqoxOIB+/l8WPqu6jldth4DIpCm3ayXnJqM=        my library   \n",
              "2  JNWfrrC7zNN7BdMpsISKa4Mw+xVJYNnxXh3/Epw7QgY=        my library   \n",
              "3  2A87tzfnJTSWqD7gIZHisolhe4DMdzkbd6LzO1KHjNs=        my library   \n",
              "4  3qm6XTZ6MOCU11x8FIVbAGH5l5uMkT3/ZalWG1oo2Gc=           explore   \n",
              "\n",
              "    source_screen_name      source_type  target  \n",
              "0              Explore  online-playlist       1  \n",
              "1  Local playlist more   local-playlist       1  \n",
              "2  Local playlist more   local-playlist       1  \n",
              "3  Local playlist more   local-playlist       1  \n",
              "4              Explore  online-playlist       1  "
            ]
          },
          "execution_count": 7,
          "metadata": {},
          "output_type": "execute_result"
        }
      ],
      "source": [
        "train.head()"
      ]
    },
    {
      "cell_type": "code",
      "execution_count": null,
      "id": "1acaa51b",
      "metadata": {
        "id": "1acaa51b"
      },
      "outputs": [],
      "source": [
        "test = pd.read_csv('test.csv')"
      ]
    },
    {
      "cell_type": "code",
      "execution_count": null,
      "id": "6dc1c8f7",
      "metadata": {
        "id": "6dc1c8f7",
        "outputId": "88641d36-ad35-4b43-e2c4-7a6740ac0477"
      },
      "outputs": [
        {
          "data": {
            "text/html": [
              "<div>\n",
              "<style scoped>\n",
              "    .dataframe tbody tr th:only-of-type {\n",
              "        vertical-align: middle;\n",
              "    }\n",
              "\n",
              "    .dataframe tbody tr th {\n",
              "        vertical-align: top;\n",
              "    }\n",
              "\n",
              "    .dataframe thead th {\n",
              "        text-align: right;\n",
              "    }\n",
              "</style>\n",
              "<table border=\"1\" class=\"dataframe\">\n",
              "  <thead>\n",
              "    <tr style=\"text-align: right;\">\n",
              "      <th></th>\n",
              "      <th>id</th>\n",
              "      <th>msno</th>\n",
              "      <th>song_id</th>\n",
              "      <th>source_system_tab</th>\n",
              "      <th>source_screen_name</th>\n",
              "      <th>source_type</th>\n",
              "    </tr>\n",
              "  </thead>\n",
              "  <tbody>\n",
              "    <tr>\n",
              "      <th>0</th>\n",
              "      <td>0</td>\n",
              "      <td>V8ruy7SGk7tDm3zA51DPpn6qutt+vmKMBKa21dp54uM=</td>\n",
              "      <td>WmHKgKMlp1lQMecNdNvDMkvIycZYHnFwDT72I5sIssc=</td>\n",
              "      <td>my library</td>\n",
              "      <td>Local playlist more</td>\n",
              "      <td>local-library</td>\n",
              "    </tr>\n",
              "    <tr>\n",
              "      <th>1</th>\n",
              "      <td>1</td>\n",
              "      <td>V8ruy7SGk7tDm3zA51DPpn6qutt+vmKMBKa21dp54uM=</td>\n",
              "      <td>y/rsZ9DC7FwK5F2PK2D5mj+aOBUJAjuu3dZ14NgE0vM=</td>\n",
              "      <td>my library</td>\n",
              "      <td>Local playlist more</td>\n",
              "      <td>local-library</td>\n",
              "    </tr>\n",
              "    <tr>\n",
              "      <th>2</th>\n",
              "      <td>2</td>\n",
              "      <td>/uQAlrAkaczV+nWCd2sPF2ekvXPRipV7q0l+gbLuxjw=</td>\n",
              "      <td>8eZLFOdGVdXBSqoAv5nsLigeH2BvKXzTQYtUM53I0k4=</td>\n",
              "      <td>discover</td>\n",
              "      <td>NaN</td>\n",
              "      <td>song-based-playlist</td>\n",
              "    </tr>\n",
              "    <tr>\n",
              "      <th>3</th>\n",
              "      <td>3</td>\n",
              "      <td>1a6oo/iXKatxQx4eS9zTVD+KlSVaAFbTIqVvwLC1Y0k=</td>\n",
              "      <td>ztCf8thYsS4YN3GcIL/bvoxLm/T5mYBVKOO4C9NiVfQ=</td>\n",
              "      <td>radio</td>\n",
              "      <td>Radio</td>\n",
              "      <td>radio</td>\n",
              "    </tr>\n",
              "    <tr>\n",
              "      <th>4</th>\n",
              "      <td>4</td>\n",
              "      <td>1a6oo/iXKatxQx4eS9zTVD+KlSVaAFbTIqVvwLC1Y0k=</td>\n",
              "      <td>MKVMpslKcQhMaFEgcEQhEfi5+RZhMYlU3eRDpySrH8Y=</td>\n",
              "      <td>radio</td>\n",
              "      <td>Radio</td>\n",
              "      <td>radio</td>\n",
              "    </tr>\n",
              "  </tbody>\n",
              "</table>\n",
              "</div>"
            ],
            "text/plain": [
              "   id                                          msno  \\\n",
              "0   0  V8ruy7SGk7tDm3zA51DPpn6qutt+vmKMBKa21dp54uM=   \n",
              "1   1  V8ruy7SGk7tDm3zA51DPpn6qutt+vmKMBKa21dp54uM=   \n",
              "2   2  /uQAlrAkaczV+nWCd2sPF2ekvXPRipV7q0l+gbLuxjw=   \n",
              "3   3  1a6oo/iXKatxQx4eS9zTVD+KlSVaAFbTIqVvwLC1Y0k=   \n",
              "4   4  1a6oo/iXKatxQx4eS9zTVD+KlSVaAFbTIqVvwLC1Y0k=   \n",
              "\n",
              "                                        song_id source_system_tab  \\\n",
              "0  WmHKgKMlp1lQMecNdNvDMkvIycZYHnFwDT72I5sIssc=        my library   \n",
              "1  y/rsZ9DC7FwK5F2PK2D5mj+aOBUJAjuu3dZ14NgE0vM=        my library   \n",
              "2  8eZLFOdGVdXBSqoAv5nsLigeH2BvKXzTQYtUM53I0k4=          discover   \n",
              "3  ztCf8thYsS4YN3GcIL/bvoxLm/T5mYBVKOO4C9NiVfQ=             radio   \n",
              "4  MKVMpslKcQhMaFEgcEQhEfi5+RZhMYlU3eRDpySrH8Y=             radio   \n",
              "\n",
              "    source_screen_name          source_type  \n",
              "0  Local playlist more        local-library  \n",
              "1  Local playlist more        local-library  \n",
              "2                  NaN  song-based-playlist  \n",
              "3                Radio                radio  \n",
              "4                Radio                radio  "
            ]
          },
          "execution_count": 9,
          "metadata": {},
          "output_type": "execute_result"
        }
      ],
      "source": [
        "test.head()"
      ]
    },
    {
      "cell_type": "code",
      "execution_count": null,
      "id": "995432ef",
      "metadata": {
        "id": "995432ef"
      },
      "outputs": [],
      "source": [
        "#test = test.reset_index(drop=True)"
      ]
    },
    {
      "cell_type": "code",
      "execution_count": null,
      "id": "8d444022",
      "metadata": {
        "id": "8d444022"
      },
      "outputs": [],
      "source": [
        "#test"
      ]
    },
    {
      "cell_type": "code",
      "execution_count": null,
      "id": "80b27ae4",
      "metadata": {
        "id": "80b27ae4"
      },
      "outputs": [],
      "source": [
        "members = pd.read_csv('members.csv')"
      ]
    },
    {
      "cell_type": "code",
      "execution_count": null,
      "id": "4511d16a",
      "metadata": {
        "id": "4511d16a",
        "outputId": "59062958-d9f9-4ba0-9f8d-de638ac14095"
      },
      "outputs": [
        {
          "data": {
            "text/html": [
              "<div>\n",
              "<style scoped>\n",
              "    .dataframe tbody tr th:only-of-type {\n",
              "        vertical-align: middle;\n",
              "    }\n",
              "\n",
              "    .dataframe tbody tr th {\n",
              "        vertical-align: top;\n",
              "    }\n",
              "\n",
              "    .dataframe thead th {\n",
              "        text-align: right;\n",
              "    }\n",
              "</style>\n",
              "<table border=\"1\" class=\"dataframe\">\n",
              "  <thead>\n",
              "    <tr style=\"text-align: right;\">\n",
              "      <th></th>\n",
              "      <th>msno</th>\n",
              "      <th>city</th>\n",
              "      <th>bd</th>\n",
              "      <th>gender</th>\n",
              "      <th>registered_via</th>\n",
              "      <th>registration_init_time</th>\n",
              "      <th>expiration_date</th>\n",
              "    </tr>\n",
              "  </thead>\n",
              "  <tbody>\n",
              "    <tr>\n",
              "      <th>0</th>\n",
              "      <td>XQxgAYj3klVKjR3oxPPXYYFp4soD4TuBghkhMTD4oTw=</td>\n",
              "      <td>1</td>\n",
              "      <td>0</td>\n",
              "      <td>NaN</td>\n",
              "      <td>7</td>\n",
              "      <td>20110820</td>\n",
              "      <td>20170920</td>\n",
              "    </tr>\n",
              "    <tr>\n",
              "      <th>1</th>\n",
              "      <td>UizsfmJb9mV54qE9hCYyU07Va97c0lCRLEQX3ae+ztM=</td>\n",
              "      <td>1</td>\n",
              "      <td>0</td>\n",
              "      <td>NaN</td>\n",
              "      <td>7</td>\n",
              "      <td>20150628</td>\n",
              "      <td>20170622</td>\n",
              "    </tr>\n",
              "    <tr>\n",
              "      <th>2</th>\n",
              "      <td>D8nEhsIOBSoE6VthTaqDX8U6lqjJ7dLdr72mOyLya2A=</td>\n",
              "      <td>1</td>\n",
              "      <td>0</td>\n",
              "      <td>NaN</td>\n",
              "      <td>4</td>\n",
              "      <td>20160411</td>\n",
              "      <td>20170712</td>\n",
              "    </tr>\n",
              "    <tr>\n",
              "      <th>3</th>\n",
              "      <td>mCuD+tZ1hERA/o5GPqk38e041J8ZsBaLcu7nGoIIvhI=</td>\n",
              "      <td>1</td>\n",
              "      <td>0</td>\n",
              "      <td>NaN</td>\n",
              "      <td>9</td>\n",
              "      <td>20150906</td>\n",
              "      <td>20150907</td>\n",
              "    </tr>\n",
              "    <tr>\n",
              "      <th>4</th>\n",
              "      <td>q4HRBfVSssAFS9iRfxWrohxuk9kCYMKjHOEagUMV6rQ=</td>\n",
              "      <td>1</td>\n",
              "      <td>0</td>\n",
              "      <td>NaN</td>\n",
              "      <td>4</td>\n",
              "      <td>20170126</td>\n",
              "      <td>20170613</td>\n",
              "    </tr>\n",
              "  </tbody>\n",
              "</table>\n",
              "</div>"
            ],
            "text/plain": [
              "                                           msno  city  bd gender  \\\n",
              "0  XQxgAYj3klVKjR3oxPPXYYFp4soD4TuBghkhMTD4oTw=     1   0    NaN   \n",
              "1  UizsfmJb9mV54qE9hCYyU07Va97c0lCRLEQX3ae+ztM=     1   0    NaN   \n",
              "2  D8nEhsIOBSoE6VthTaqDX8U6lqjJ7dLdr72mOyLya2A=     1   0    NaN   \n",
              "3  mCuD+tZ1hERA/o5GPqk38e041J8ZsBaLcu7nGoIIvhI=     1   0    NaN   \n",
              "4  q4HRBfVSssAFS9iRfxWrohxuk9kCYMKjHOEagUMV6rQ=     1   0    NaN   \n",
              "\n",
              "   registered_via  registration_init_time  expiration_date  \n",
              "0               7                20110820         20170920  \n",
              "1               7                20150628         20170622  \n",
              "2               4                20160411         20170712  \n",
              "3               9                20150906         20150907  \n",
              "4               4                20170126         20170613  "
            ]
          },
          "execution_count": 13,
          "metadata": {},
          "output_type": "execute_result"
        }
      ],
      "source": [
        "members.head()"
      ]
    },
    {
      "cell_type": "code",
      "execution_count": null,
      "id": "351eb7ce",
      "metadata": {
        "id": "351eb7ce"
      },
      "outputs": [],
      "source": [
        "songs = pd.read_csv('song_extra_info.csv')"
      ]
    },
    {
      "cell_type": "code",
      "execution_count": null,
      "id": "3605e887",
      "metadata": {
        "id": "3605e887",
        "outputId": "4e1df2e1-479d-42f1-cee5-947ebea0eb62"
      },
      "outputs": [
        {
          "data": {
            "text/html": [
              "<div>\n",
              "<style scoped>\n",
              "    .dataframe tbody tr th:only-of-type {\n",
              "        vertical-align: middle;\n",
              "    }\n",
              "\n",
              "    .dataframe tbody tr th {\n",
              "        vertical-align: top;\n",
              "    }\n",
              "\n",
              "    .dataframe thead th {\n",
              "        text-align: right;\n",
              "    }\n",
              "</style>\n",
              "<table border=\"1\" class=\"dataframe\">\n",
              "  <thead>\n",
              "    <tr style=\"text-align: right;\">\n",
              "      <th></th>\n",
              "      <th>song_id</th>\n",
              "      <th>name</th>\n",
              "      <th>isrc</th>\n",
              "    </tr>\n",
              "  </thead>\n",
              "  <tbody>\n",
              "    <tr>\n",
              "      <th>0</th>\n",
              "      <td>LP7pLJoJFBvyuUwvu+oLzjT+bI+UeBPURCecJsX1jjs=</td>\n",
              "      <td>我們</td>\n",
              "      <td>TWUM71200043</td>\n",
              "    </tr>\n",
              "    <tr>\n",
              "      <th>1</th>\n",
              "      <td>ClazTFnk6r0Bnuie44bocdNMM3rdlrq0bCGAsGUWcHE=</td>\n",
              "      <td>Let Me Love You</td>\n",
              "      <td>QMZSY1600015</td>\n",
              "    </tr>\n",
              "    <tr>\n",
              "      <th>2</th>\n",
              "      <td>u2ja/bZE3zhCGxvbbOB3zOoUjx27u40cf5g09UXMoKQ=</td>\n",
              "      <td>原諒我</td>\n",
              "      <td>TWA530887303</td>\n",
              "    </tr>\n",
              "    <tr>\n",
              "      <th>3</th>\n",
              "      <td>92Fqsy0+p6+RHe2EoLKjHahORHR1Kq1TBJoClW9v+Ts=</td>\n",
              "      <td>Classic</td>\n",
              "      <td>USSM11301446</td>\n",
              "    </tr>\n",
              "    <tr>\n",
              "      <th>4</th>\n",
              "      <td>0QFmz/+rJy1Q56C1DuYqT9hKKqi5TUqx0sN0IwvoHrw=</td>\n",
              "      <td>愛投羅網</td>\n",
              "      <td>TWA471306001</td>\n",
              "    </tr>\n",
              "  </tbody>\n",
              "</table>\n",
              "</div>"
            ],
            "text/plain": [
              "                                        song_id             name          isrc\n",
              "0  LP7pLJoJFBvyuUwvu+oLzjT+bI+UeBPURCecJsX1jjs=               我們  TWUM71200043\n",
              "1  ClazTFnk6r0Bnuie44bocdNMM3rdlrq0bCGAsGUWcHE=  Let Me Love You  QMZSY1600015\n",
              "2  u2ja/bZE3zhCGxvbbOB3zOoUjx27u40cf5g09UXMoKQ=              原諒我  TWA530887303\n",
              "3  92Fqsy0+p6+RHe2EoLKjHahORHR1Kq1TBJoClW9v+Ts=          Classic  USSM11301446\n",
              "4  0QFmz/+rJy1Q56C1DuYqT9hKKqi5TUqx0sN0IwvoHrw=             愛投羅網  TWA471306001"
            ]
          },
          "execution_count": 15,
          "metadata": {},
          "output_type": "execute_result"
        }
      ],
      "source": [
        "songs.head()"
      ]
    },
    {
      "cell_type": "code",
      "execution_count": null,
      "id": "1f17aef2",
      "metadata": {
        "id": "1f17aef2",
        "outputId": "c21d2d89-d9f0-4789-f892-03a00622100d"
      },
      "outputs": [
        {
          "name": "stdout",
          "output_type": "stream",
          "text": [
            "train (7377418, 6)\n",
            "test (2556790, 6)\n",
            "members (34403, 7)\n",
            "songs (2295971, 3)\n"
          ]
        }
      ],
      "source": [
        "print('train',train.shape)\n",
        "print('test',test.shape)\n",
        "print('members',members.shape)\n",
        "print('songs',songs.shape)"
      ]
    },
    {
      "cell_type": "code",
      "execution_count": null,
      "id": "7d4d1b32",
      "metadata": {
        "id": "7d4d1b32"
      },
      "outputs": [],
      "source": [
        "train = train.sample(frac=0.01)"
      ]
    },
    {
      "cell_type": "code",
      "execution_count": null,
      "id": "3f3070a8",
      "metadata": {
        "id": "3f3070a8",
        "outputId": "cecf700c-075d-4992-bd47-24fdd79b9b71"
      },
      "outputs": [
        {
          "data": {
            "text/plain": [
              "(73774, 6)"
            ]
          },
          "execution_count": 18,
          "metadata": {},
          "output_type": "execute_result"
        }
      ],
      "source": [
        "train.shape"
      ]
    },
    {
      "cell_type": "code",
      "execution_count": null,
      "id": "2852a04f",
      "metadata": {
        "id": "2852a04f",
        "outputId": "bacb7c71-f508-4221-cd2e-794b1373f698"
      },
      "outputs": [
        {
          "data": {
            "text/html": [
              "<div>\n",
              "<style scoped>\n",
              "    .dataframe tbody tr th:only-of-type {\n",
              "        vertical-align: middle;\n",
              "    }\n",
              "\n",
              "    .dataframe tbody tr th {\n",
              "        vertical-align: top;\n",
              "    }\n",
              "\n",
              "    .dataframe thead th {\n",
              "        text-align: right;\n",
              "    }\n",
              "</style>\n",
              "<table border=\"1\" class=\"dataframe\">\n",
              "  <thead>\n",
              "    <tr style=\"text-align: right;\">\n",
              "      <th></th>\n",
              "      <th>msno</th>\n",
              "      <th>song_id</th>\n",
              "      <th>source_system_tab</th>\n",
              "      <th>source_screen_name</th>\n",
              "      <th>source_type</th>\n",
              "      <th>target</th>\n",
              "    </tr>\n",
              "  </thead>\n",
              "  <tbody>\n",
              "    <tr>\n",
              "      <th>2293493</th>\n",
              "      <td>vQ3yfzDw0vBdBMQ4UZKSZkHlih2kyFjJrC9ovbUuPCw=</td>\n",
              "      <td>TA8T+qI4rqZoUI3/TbMBc0wMPz+eilajCK9ypO+KWYU=</td>\n",
              "      <td>my library</td>\n",
              "      <td>Local playlist more</td>\n",
              "      <td>local-library</td>\n",
              "      <td>1</td>\n",
              "    </tr>\n",
              "    <tr>\n",
              "      <th>2969465</th>\n",
              "      <td>2280JdzqfTNyOHJOtbwpF2+ulteGeLrKVZlu7aCkju0=</td>\n",
              "      <td>gYCZbvFEc3qOmPpWK1PE/xumcMgf6dhOlDkQ/QrV2uk=</td>\n",
              "      <td>my library</td>\n",
              "      <td>Local playlist more</td>\n",
              "      <td>local-library</td>\n",
              "      <td>0</td>\n",
              "    </tr>\n",
              "    <tr>\n",
              "      <th>7050280</th>\n",
              "      <td>baV/aJPQcAsALgDkWCOvofBw/kYkv+sm73hxsItW0So=</td>\n",
              "      <td>VkDBgh89umc9m6uAEfD6LXngetyGhln4vh/ArCGO0nY=</td>\n",
              "      <td>my library</td>\n",
              "      <td>Local playlist more</td>\n",
              "      <td>local-library</td>\n",
              "      <td>1</td>\n",
              "    </tr>\n",
              "    <tr>\n",
              "      <th>296325</th>\n",
              "      <td>uyT/naa8TIRJ/YewI2K4WLm71KLxPcFQ1RSTpUb244A=</td>\n",
              "      <td>WsVr4mozaIQq9Tp8Ks0Iir3HIFTQQSpEDO1AmUIzdsc=</td>\n",
              "      <td>discover</td>\n",
              "      <td>Online playlist more</td>\n",
              "      <td>online-playlist</td>\n",
              "      <td>0</td>\n",
              "    </tr>\n",
              "    <tr>\n",
              "      <th>5944563</th>\n",
              "      <td>XHJRZV5Xgcub4dNGuzRj5tVfDD1iwrtoXmdQOWtlc3U=</td>\n",
              "      <td>QZBAXY6al7xhjD2fxFWxoZYBPwblMjqax0i611tQTjM=</td>\n",
              "      <td>radio</td>\n",
              "      <td>Radio</td>\n",
              "      <td>radio</td>\n",
              "      <td>1</td>\n",
              "    </tr>\n",
              "  </tbody>\n",
              "</table>\n",
              "</div>"
            ],
            "text/plain": [
              "                                                 msno  \\\n",
              "2293493  vQ3yfzDw0vBdBMQ4UZKSZkHlih2kyFjJrC9ovbUuPCw=   \n",
              "2969465  2280JdzqfTNyOHJOtbwpF2+ulteGeLrKVZlu7aCkju0=   \n",
              "7050280  baV/aJPQcAsALgDkWCOvofBw/kYkv+sm73hxsItW0So=   \n",
              "296325   uyT/naa8TIRJ/YewI2K4WLm71KLxPcFQ1RSTpUb244A=   \n",
              "5944563  XHJRZV5Xgcub4dNGuzRj5tVfDD1iwrtoXmdQOWtlc3U=   \n",
              "\n",
              "                                              song_id source_system_tab  \\\n",
              "2293493  TA8T+qI4rqZoUI3/TbMBc0wMPz+eilajCK9ypO+KWYU=        my library   \n",
              "2969465  gYCZbvFEc3qOmPpWK1PE/xumcMgf6dhOlDkQ/QrV2uk=        my library   \n",
              "7050280  VkDBgh89umc9m6uAEfD6LXngetyGhln4vh/ArCGO0nY=        my library   \n",
              "296325   WsVr4mozaIQq9Tp8Ks0Iir3HIFTQQSpEDO1AmUIzdsc=          discover   \n",
              "5944563  QZBAXY6al7xhjD2fxFWxoZYBPwblMjqax0i611tQTjM=             radio   \n",
              "\n",
              "           source_screen_name      source_type  target  \n",
              "2293493   Local playlist more    local-library       1  \n",
              "2969465   Local playlist more    local-library       0  \n",
              "7050280   Local playlist more    local-library       1  \n",
              "296325   Online playlist more  online-playlist       0  \n",
              "5944563                 Radio            radio       1  "
            ]
          },
          "execution_count": 19,
          "metadata": {},
          "output_type": "execute_result"
        }
      ],
      "source": [
        "train.head()"
      ]
    },
    {
      "cell_type": "code",
      "execution_count": null,
      "id": "a55d78cf",
      "metadata": {
        "id": "a55d78cf"
      },
      "outputs": [],
      "source": [
        "train = pd.merge(train,songs,on = 'song_id',how='left')"
      ]
    },
    {
      "cell_type": "code",
      "execution_count": null,
      "id": "54601bb4",
      "metadata": {
        "id": "54601bb4",
        "outputId": "7136d8d8-1695-48db-c895-477ce5c0fe11"
      },
      "outputs": [
        {
          "data": {
            "text/plain": [
              "(73774, 8)"
            ]
          },
          "execution_count": 21,
          "metadata": {},
          "output_type": "execute_result"
        }
      ],
      "source": [
        "train.shape"
      ]
    },
    {
      "cell_type": "code",
      "execution_count": null,
      "id": "623bff8d",
      "metadata": {
        "id": "623bff8d",
        "outputId": "df938bca-b4ba-4b0c-b213-07e8e147d17d"
      },
      "outputs": [
        {
          "data": {
            "text/html": [
              "<div>\n",
              "<style scoped>\n",
              "    .dataframe tbody tr th:only-of-type {\n",
              "        vertical-align: middle;\n",
              "    }\n",
              "\n",
              "    .dataframe tbody tr th {\n",
              "        vertical-align: top;\n",
              "    }\n",
              "\n",
              "    .dataframe thead th {\n",
              "        text-align: right;\n",
              "    }\n",
              "</style>\n",
              "<table border=\"1\" class=\"dataframe\">\n",
              "  <thead>\n",
              "    <tr style=\"text-align: right;\">\n",
              "      <th></th>\n",
              "      <th>msno</th>\n",
              "      <th>song_id</th>\n",
              "      <th>source_system_tab</th>\n",
              "      <th>source_screen_name</th>\n",
              "      <th>source_type</th>\n",
              "      <th>target</th>\n",
              "      <th>name</th>\n",
              "      <th>isrc</th>\n",
              "    </tr>\n",
              "  </thead>\n",
              "  <tbody>\n",
              "    <tr>\n",
              "      <th>0</th>\n",
              "      <td>vQ3yfzDw0vBdBMQ4UZKSZkHlih2kyFjJrC9ovbUuPCw=</td>\n",
              "      <td>TA8T+qI4rqZoUI3/TbMBc0wMPz+eilajCK9ypO+KWYU=</td>\n",
              "      <td>my library</td>\n",
              "      <td>Local playlist more</td>\n",
              "      <td>local-library</td>\n",
              "      <td>1</td>\n",
              "      <td>I'm Not Yours - feat.安室奈美惠NAMIE AMURO</td>\n",
              "      <td>TWA531457205</td>\n",
              "    </tr>\n",
              "    <tr>\n",
              "      <th>1</th>\n",
              "      <td>2280JdzqfTNyOHJOtbwpF2+ulteGeLrKVZlu7aCkju0=</td>\n",
              "      <td>gYCZbvFEc3qOmPpWK1PE/xumcMgf6dhOlDkQ/QrV2uk=</td>\n",
              "      <td>my library</td>\n",
              "      <td>Local playlist more</td>\n",
              "      <td>local-library</td>\n",
              "      <td>0</td>\n",
              "      <td>Tell Me If You Wanna Go Home</td>\n",
              "      <td>USUG11400558</td>\n",
              "    </tr>\n",
              "    <tr>\n",
              "      <th>2</th>\n",
              "      <td>baV/aJPQcAsALgDkWCOvofBw/kYkv+sm73hxsItW0So=</td>\n",
              "      <td>VkDBgh89umc9m6uAEfD6LXngetyGhln4vh/ArCGO0nY=</td>\n",
              "      <td>my library</td>\n",
              "      <td>Local playlist more</td>\n",
              "      <td>local-library</td>\n",
              "      <td>1</td>\n",
              "      <td>如果我們不曾相遇 (What If We Had Never Met)</td>\n",
              "      <td>TWK231680820</td>\n",
              "    </tr>\n",
              "    <tr>\n",
              "      <th>3</th>\n",
              "      <td>uyT/naa8TIRJ/YewI2K4WLm71KLxPcFQ1RSTpUb244A=</td>\n",
              "      <td>WsVr4mozaIQq9Tp8Ks0Iir3HIFTQQSpEDO1AmUIzdsc=</td>\n",
              "      <td>discover</td>\n",
              "      <td>Online playlist more</td>\n",
              "      <td>online-playlist</td>\n",
              "      <td>0</td>\n",
              "      <td>傻子</td>\n",
              "      <td>TWD951249101</td>\n",
              "    </tr>\n",
              "    <tr>\n",
              "      <th>4</th>\n",
              "      <td>XHJRZV5Xgcub4dNGuzRj5tVfDD1iwrtoXmdQOWtlc3U=</td>\n",
              "      <td>QZBAXY6al7xhjD2fxFWxoZYBPwblMjqax0i611tQTjM=</td>\n",
              "      <td>radio</td>\n",
              "      <td>Radio</td>\n",
              "      <td>radio</td>\n",
              "      <td>1</td>\n",
              "      <td>Say Something Loving</td>\n",
              "      <td>UK7MC1600072</td>\n",
              "    </tr>\n",
              "  </tbody>\n",
              "</table>\n",
              "</div>"
            ],
            "text/plain": [
              "                                           msno  \\\n",
              "0  vQ3yfzDw0vBdBMQ4UZKSZkHlih2kyFjJrC9ovbUuPCw=   \n",
              "1  2280JdzqfTNyOHJOtbwpF2+ulteGeLrKVZlu7aCkju0=   \n",
              "2  baV/aJPQcAsALgDkWCOvofBw/kYkv+sm73hxsItW0So=   \n",
              "3  uyT/naa8TIRJ/YewI2K4WLm71KLxPcFQ1RSTpUb244A=   \n",
              "4  XHJRZV5Xgcub4dNGuzRj5tVfDD1iwrtoXmdQOWtlc3U=   \n",
              "\n",
              "                                        song_id source_system_tab  \\\n",
              "0  TA8T+qI4rqZoUI3/TbMBc0wMPz+eilajCK9ypO+KWYU=        my library   \n",
              "1  gYCZbvFEc3qOmPpWK1PE/xumcMgf6dhOlDkQ/QrV2uk=        my library   \n",
              "2  VkDBgh89umc9m6uAEfD6LXngetyGhln4vh/ArCGO0nY=        my library   \n",
              "3  WsVr4mozaIQq9Tp8Ks0Iir3HIFTQQSpEDO1AmUIzdsc=          discover   \n",
              "4  QZBAXY6al7xhjD2fxFWxoZYBPwblMjqax0i611tQTjM=             radio   \n",
              "\n",
              "     source_screen_name      source_type  target  \\\n",
              "0   Local playlist more    local-library       1   \n",
              "1   Local playlist more    local-library       0   \n",
              "2   Local playlist more    local-library       1   \n",
              "3  Online playlist more  online-playlist       0   \n",
              "4                 Radio            radio       1   \n",
              "\n",
              "                                    name          isrc  \n",
              "0  I'm Not Yours - feat.安室奈美惠NAMIE AMURO  TWA531457205  \n",
              "1           Tell Me If You Wanna Go Home  USUG11400558  \n",
              "2    如果我們不曾相遇 (What If We Had Never Met)  TWK231680820  \n",
              "3                                     傻子  TWD951249101  \n",
              "4                   Say Something Loving  UK7MC1600072  "
            ]
          },
          "execution_count": 22,
          "metadata": {},
          "output_type": "execute_result"
        }
      ],
      "source": [
        "train.head()"
      ]
    },
    {
      "cell_type": "code",
      "execution_count": null,
      "id": "518efdf9",
      "metadata": {
        "id": "518efdf9"
      },
      "outputs": [],
      "source": [
        "train = pd.merge(train,members,on='msno',how ='left')"
      ]
    },
    {
      "cell_type": "code",
      "execution_count": null,
      "id": "7dbcbb39",
      "metadata": {
        "id": "7dbcbb39",
        "outputId": "9c6d5847-b8b8-4238-e00e-05cad0e77dd3"
      },
      "outputs": [
        {
          "data": {
            "text/plain": [
              "(73774, 14)"
            ]
          },
          "execution_count": 24,
          "metadata": {},
          "output_type": "execute_result"
        }
      ],
      "source": [
        "train.shape"
      ]
    },
    {
      "cell_type": "code",
      "execution_count": null,
      "id": "af62ea31",
      "metadata": {
        "id": "af62ea31",
        "outputId": "bd0f70dd-6698-4707-b507-a12d7fb9a30b"
      },
      "outputs": [
        {
          "data": {
            "text/html": [
              "<div>\n",
              "<style scoped>\n",
              "    .dataframe tbody tr th:only-of-type {\n",
              "        vertical-align: middle;\n",
              "    }\n",
              "\n",
              "    .dataframe tbody tr th {\n",
              "        vertical-align: top;\n",
              "    }\n",
              "\n",
              "    .dataframe thead th {\n",
              "        text-align: right;\n",
              "    }\n",
              "</style>\n",
              "<table border=\"1\" class=\"dataframe\">\n",
              "  <thead>\n",
              "    <tr style=\"text-align: right;\">\n",
              "      <th></th>\n",
              "      <th>msno</th>\n",
              "      <th>song_id</th>\n",
              "      <th>source_system_tab</th>\n",
              "      <th>source_screen_name</th>\n",
              "      <th>source_type</th>\n",
              "      <th>target</th>\n",
              "      <th>name</th>\n",
              "      <th>isrc</th>\n",
              "      <th>city</th>\n",
              "      <th>bd</th>\n",
              "      <th>gender</th>\n",
              "      <th>registered_via</th>\n",
              "      <th>registration_init_time</th>\n",
              "      <th>expiration_date</th>\n",
              "    </tr>\n",
              "  </thead>\n",
              "  <tbody>\n",
              "    <tr>\n",
              "      <th>0</th>\n",
              "      <td>vQ3yfzDw0vBdBMQ4UZKSZkHlih2kyFjJrC9ovbUuPCw=</td>\n",
              "      <td>TA8T+qI4rqZoUI3/TbMBc0wMPz+eilajCK9ypO+KWYU=</td>\n",
              "      <td>my library</td>\n",
              "      <td>Local playlist more</td>\n",
              "      <td>local-library</td>\n",
              "      <td>1</td>\n",
              "      <td>I'm Not Yours - feat.安室奈美惠NAMIE AMURO</td>\n",
              "      <td>TWA531457205</td>\n",
              "      <td>1</td>\n",
              "      <td>0</td>\n",
              "      <td>NaN</td>\n",
              "      <td>7</td>\n",
              "      <td>20140110</td>\n",
              "      <td>20171003</td>\n",
              "    </tr>\n",
              "    <tr>\n",
              "      <th>1</th>\n",
              "      <td>2280JdzqfTNyOHJOtbwpF2+ulteGeLrKVZlu7aCkju0=</td>\n",
              "      <td>gYCZbvFEc3qOmPpWK1PE/xumcMgf6dhOlDkQ/QrV2uk=</td>\n",
              "      <td>my library</td>\n",
              "      <td>Local playlist more</td>\n",
              "      <td>local-library</td>\n",
              "      <td>0</td>\n",
              "      <td>Tell Me If You Wanna Go Home</td>\n",
              "      <td>USUG11400558</td>\n",
              "      <td>14</td>\n",
              "      <td>65</td>\n",
              "      <td>male</td>\n",
              "      <td>9</td>\n",
              "      <td>20060227</td>\n",
              "      <td>20180610</td>\n",
              "    </tr>\n",
              "    <tr>\n",
              "      <th>2</th>\n",
              "      <td>baV/aJPQcAsALgDkWCOvofBw/kYkv+sm73hxsItW0So=</td>\n",
              "      <td>VkDBgh89umc9m6uAEfD6LXngetyGhln4vh/ArCGO0nY=</td>\n",
              "      <td>my library</td>\n",
              "      <td>Local playlist more</td>\n",
              "      <td>local-library</td>\n",
              "      <td>1</td>\n",
              "      <td>如果我們不曾相遇 (What If We Had Never Met)</td>\n",
              "      <td>TWK231680820</td>\n",
              "      <td>1</td>\n",
              "      <td>0</td>\n",
              "      <td>NaN</td>\n",
              "      <td>4</td>\n",
              "      <td>20151202</td>\n",
              "      <td>20171205</td>\n",
              "    </tr>\n",
              "    <tr>\n",
              "      <th>3</th>\n",
              "      <td>uyT/naa8TIRJ/YewI2K4WLm71KLxPcFQ1RSTpUb244A=</td>\n",
              "      <td>WsVr4mozaIQq9Tp8Ks0Iir3HIFTQQSpEDO1AmUIzdsc=</td>\n",
              "      <td>discover</td>\n",
              "      <td>Online playlist more</td>\n",
              "      <td>online-playlist</td>\n",
              "      <td>0</td>\n",
              "      <td>傻子</td>\n",
              "      <td>TWD951249101</td>\n",
              "      <td>1</td>\n",
              "      <td>0</td>\n",
              "      <td>NaN</td>\n",
              "      <td>7</td>\n",
              "      <td>20131224</td>\n",
              "      <td>20170923</td>\n",
              "    </tr>\n",
              "    <tr>\n",
              "      <th>4</th>\n",
              "      <td>XHJRZV5Xgcub4dNGuzRj5tVfDD1iwrtoXmdQOWtlc3U=</td>\n",
              "      <td>QZBAXY6al7xhjD2fxFWxoZYBPwblMjqax0i611tQTjM=</td>\n",
              "      <td>radio</td>\n",
              "      <td>Radio</td>\n",
              "      <td>radio</td>\n",
              "      <td>1</td>\n",
              "      <td>Say Something Loving</td>\n",
              "      <td>UK7MC1600072</td>\n",
              "      <td>1</td>\n",
              "      <td>0</td>\n",
              "      <td>NaN</td>\n",
              "      <td>9</td>\n",
              "      <td>20161222</td>\n",
              "      <td>20170930</td>\n",
              "    </tr>\n",
              "  </tbody>\n",
              "</table>\n",
              "</div>"
            ],
            "text/plain": [
              "                                           msno  \\\n",
              "0  vQ3yfzDw0vBdBMQ4UZKSZkHlih2kyFjJrC9ovbUuPCw=   \n",
              "1  2280JdzqfTNyOHJOtbwpF2+ulteGeLrKVZlu7aCkju0=   \n",
              "2  baV/aJPQcAsALgDkWCOvofBw/kYkv+sm73hxsItW0So=   \n",
              "3  uyT/naa8TIRJ/YewI2K4WLm71KLxPcFQ1RSTpUb244A=   \n",
              "4  XHJRZV5Xgcub4dNGuzRj5tVfDD1iwrtoXmdQOWtlc3U=   \n",
              "\n",
              "                                        song_id source_system_tab  \\\n",
              "0  TA8T+qI4rqZoUI3/TbMBc0wMPz+eilajCK9ypO+KWYU=        my library   \n",
              "1  gYCZbvFEc3qOmPpWK1PE/xumcMgf6dhOlDkQ/QrV2uk=        my library   \n",
              "2  VkDBgh89umc9m6uAEfD6LXngetyGhln4vh/ArCGO0nY=        my library   \n",
              "3  WsVr4mozaIQq9Tp8Ks0Iir3HIFTQQSpEDO1AmUIzdsc=          discover   \n",
              "4  QZBAXY6al7xhjD2fxFWxoZYBPwblMjqax0i611tQTjM=             radio   \n",
              "\n",
              "     source_screen_name      source_type  target  \\\n",
              "0   Local playlist more    local-library       1   \n",
              "1   Local playlist more    local-library       0   \n",
              "2   Local playlist more    local-library       1   \n",
              "3  Online playlist more  online-playlist       0   \n",
              "4                 Radio            radio       1   \n",
              "\n",
              "                                    name          isrc  city  bd gender  \\\n",
              "0  I'm Not Yours - feat.安室奈美惠NAMIE AMURO  TWA531457205     1   0    NaN   \n",
              "1           Tell Me If You Wanna Go Home  USUG11400558    14  65   male   \n",
              "2    如果我們不曾相遇 (What If We Had Never Met)  TWK231680820     1   0    NaN   \n",
              "3                                     傻子  TWD951249101     1   0    NaN   \n",
              "4                   Say Something Loving  UK7MC1600072     1   0    NaN   \n",
              "\n",
              "   registered_via  registration_init_time  expiration_date  \n",
              "0               7                20140110         20171003  \n",
              "1               9                20060227         20180610  \n",
              "2               4                20151202         20171205  \n",
              "3               7                20131224         20170923  \n",
              "4               9                20161222         20170930  "
            ]
          },
          "execution_count": 25,
          "metadata": {},
          "output_type": "execute_result"
        }
      ],
      "source": [
        "train.head()"
      ]
    },
    {
      "cell_type": "code",
      "execution_count": null,
      "id": "32985bc2",
      "metadata": {
        "id": "32985bc2",
        "outputId": "996c9dab-2f65-47c9-e63e-71fd8d867b01"
      },
      "outputs": [
        {
          "name": "stdout",
          "output_type": "stream",
          "text": [
            "<class 'pandas.core.frame.DataFrame'>\n",
            "Int64Index: 73774 entries, 0 to 73773\n",
            "Data columns (total 14 columns):\n",
            " #   Column                  Non-Null Count  Dtype \n",
            "---  ------                  --------------  ----- \n",
            " 0   msno                    73774 non-null  object\n",
            " 1   song_id                 73774 non-null  object\n",
            " 2   source_system_tab       73532 non-null  object\n",
            " 3   source_screen_name      69584 non-null  object\n",
            " 4   source_type             73556 non-null  object\n",
            " 5   target                  73774 non-null  int64 \n",
            " 6   name                    73758 non-null  object\n",
            " 7   isrc                    67860 non-null  object\n",
            " 8   city                    73774 non-null  int64 \n",
            " 9   bd                      73774 non-null  int64 \n",
            " 10  gender                  44006 non-null  object\n",
            " 11  registered_via          73774 non-null  int64 \n",
            " 12  registration_init_time  73774 non-null  int64 \n",
            " 13  expiration_date         73774 non-null  int64 \n",
            "dtypes: int64(6), object(8)\n",
            "memory usage: 8.4+ MB\n"
          ]
        }
      ],
      "source": [
        "train.info()"
      ]
    },
    {
      "cell_type": "code",
      "execution_count": null,
      "id": "e9eb7907",
      "metadata": {
        "id": "e9eb7907",
        "outputId": "093f2e4b-7485-460a-91ad-077b551ad917"
      },
      "outputs": [
        {
          "data": {
            "text/plain": [
              "msno                       0.000000\n",
              "song_id                    0.000000\n",
              "source_system_tab          0.328029\n",
              "source_screen_name         5.679508\n",
              "source_type                0.295497\n",
              "target                     0.000000\n",
              "name                       0.021688\n",
              "isrc                       8.016374\n",
              "city                       0.000000\n",
              "bd                         0.000000\n",
              "gender                    40.350259\n",
              "registered_via             0.000000\n",
              "registration_init_time     0.000000\n",
              "expiration_date            0.000000\n",
              "dtype: float64"
            ]
          },
          "execution_count": 27,
          "metadata": {},
          "output_type": "execute_result"
        }
      ],
      "source": [
        "train.isnull().sum()/train.isnull().count()*100"
      ]
    },
    {
      "cell_type": "code",
      "execution_count": null,
      "id": "6f62b829",
      "metadata": {
        "id": "6f62b829",
        "outputId": "20e66397-8019-4c56-e9a8-0443fd4e2df7"
      },
      "outputs": [
        {
          "name": "stderr",
          "output_type": "stream",
          "text": [
            "C:\\Users\\khirran\\AppData\\Local\\Temp\\ipykernel_7220\\1369607987.py:2: SettingWithCopyWarning: \n",
            "A value is trying to be set on a copy of a slice from a DataFrame\n",
            "\n",
            "See the caveats in the documentation: https://pandas.pydata.org/pandas-docs/stable/user_guide/indexing.html#returning-a-view-versus-a-copy\n",
            "  train[i][train[i].isnull()]='unknown'\n",
            "C:\\Users\\khirran\\AppData\\Local\\Temp\\ipykernel_7220\\1369607987.py:2: SettingWithCopyWarning: \n",
            "A value is trying to be set on a copy of a slice from a DataFrame\n",
            "\n",
            "See the caveats in the documentation: https://pandas.pydata.org/pandas-docs/stable/user_guide/indexing.html#returning-a-view-versus-a-copy\n",
            "  train[i][train[i].isnull()]='unknown'\n",
            "C:\\Users\\khirran\\AppData\\Local\\Temp\\ipykernel_7220\\1369607987.py:2: SettingWithCopyWarning: \n",
            "A value is trying to be set on a copy of a slice from a DataFrame\n",
            "\n",
            "See the caveats in the documentation: https://pandas.pydata.org/pandas-docs/stable/user_guide/indexing.html#returning-a-view-versus-a-copy\n",
            "  train[i][train[i].isnull()]='unknown'\n",
            "C:\\Users\\khirran\\AppData\\Local\\Temp\\ipykernel_7220\\1369607987.py:2: SettingWithCopyWarning: \n",
            "A value is trying to be set on a copy of a slice from a DataFrame\n",
            "\n",
            "See the caveats in the documentation: https://pandas.pydata.org/pandas-docs/stable/user_guide/indexing.html#returning-a-view-versus-a-copy\n",
            "  train[i][train[i].isnull()]='unknown'\n",
            "C:\\Users\\khirran\\AppData\\Local\\Temp\\ipykernel_7220\\1369607987.py:2: SettingWithCopyWarning: \n",
            "A value is trying to be set on a copy of a slice from a DataFrame\n",
            "\n",
            "See the caveats in the documentation: https://pandas.pydata.org/pandas-docs/stable/user_guide/indexing.html#returning-a-view-versus-a-copy\n",
            "  train[i][train[i].isnull()]='unknown'\n",
            "C:\\Users\\khirran\\AppData\\Local\\Temp\\ipykernel_7220\\1369607987.py:2: SettingWithCopyWarning: \n",
            "A value is trying to be set on a copy of a slice from a DataFrame\n",
            "\n",
            "See the caveats in the documentation: https://pandas.pydata.org/pandas-docs/stable/user_guide/indexing.html#returning-a-view-versus-a-copy\n",
            "  train[i][train[i].isnull()]='unknown'\n",
            "C:\\Users\\khirran\\AppData\\Local\\Temp\\ipykernel_7220\\1369607987.py:2: SettingWithCopyWarning: \n",
            "A value is trying to be set on a copy of a slice from a DataFrame\n",
            "\n",
            "See the caveats in the documentation: https://pandas.pydata.org/pandas-docs/stable/user_guide/indexing.html#returning-a-view-versus-a-copy\n",
            "  train[i][train[i].isnull()]='unknown'\n",
            "C:\\Users\\khirran\\AppData\\Local\\Temp\\ipykernel_7220\\1369607987.py:2: SettingWithCopyWarning: \n",
            "A value is trying to be set on a copy of a slice from a DataFrame\n",
            "\n",
            "See the caveats in the documentation: https://pandas.pydata.org/pandas-docs/stable/user_guide/indexing.html#returning-a-view-versus-a-copy\n",
            "  train[i][train[i].isnull()]='unknown'\n"
          ]
        }
      ],
      "source": [
        "for i in train.select_dtypes(include = ['object']).columns:\n",
        "    train[i][train[i].isnull()]='unknown'\n",
        "train = train.fillna(value =0)"
      ]
    },
    {
      "cell_type": "code",
      "execution_count": null,
      "id": "f86d33d0",
      "metadata": {
        "id": "f86d33d0"
      },
      "outputs": [],
      "source": [
        "train.registration_init_time = pd.to_datetime(train.registration_init_time,format = '%Y%m%d',errors = 'ignore')\n",
        "train['registration_init_time_year'] = train['registration_init_time'].dt.year\n",
        "train['registration_init_time_month'] = train['registration_init_time'].dt.month\n",
        "train['registration_init_time_day'] = train['registration_init_time'].dt.day\n",
        "\n",
        "train.expiration_date = pd.to_datetime(train.expiration_date,format = '%Y%m%d',errors ='ignore')\n",
        "train['expiration_date_year'] = train['expiration_date'].dt.year\n",
        "train['expiration_date_month'] = train['expiration_date'].dt.month\n",
        "train['expiration_date_day'] = train['expiration_date'].dt.day"
      ]
    },
    {
      "cell_type": "code",
      "execution_count": null,
      "id": "ca14d59f",
      "metadata": {
        "id": "ca14d59f",
        "outputId": "cd915622-a0a4-45a8-f3c4-5f96f9e1500d"
      },
      "outputs": [
        {
          "data": {
            "text/html": [
              "<div>\n",
              "<style scoped>\n",
              "    .dataframe tbody tr th:only-of-type {\n",
              "        vertical-align: middle;\n",
              "    }\n",
              "\n",
              "    .dataframe tbody tr th {\n",
              "        vertical-align: top;\n",
              "    }\n",
              "\n",
              "    .dataframe thead th {\n",
              "        text-align: right;\n",
              "    }\n",
              "</style>\n",
              "<table border=\"1\" class=\"dataframe\">\n",
              "  <thead>\n",
              "    <tr style=\"text-align: right;\">\n",
              "      <th></th>\n",
              "      <th>msno</th>\n",
              "      <th>song_id</th>\n",
              "      <th>source_system_tab</th>\n",
              "      <th>source_screen_name</th>\n",
              "      <th>source_type</th>\n",
              "      <th>target</th>\n",
              "      <th>name</th>\n",
              "      <th>isrc</th>\n",
              "      <th>city</th>\n",
              "      <th>bd</th>\n",
              "      <th>gender</th>\n",
              "      <th>registered_via</th>\n",
              "      <th>registration_init_time</th>\n",
              "      <th>expiration_date</th>\n",
              "      <th>registration_init_time_year</th>\n",
              "      <th>registration_init_time_month</th>\n",
              "      <th>registration_init_time_day</th>\n",
              "      <th>expiration_date_year</th>\n",
              "      <th>expiration_date_month</th>\n",
              "      <th>expiration_date_day</th>\n",
              "    </tr>\n",
              "  </thead>\n",
              "  <tbody>\n",
              "    <tr>\n",
              "      <th>0</th>\n",
              "      <td>vQ3yfzDw0vBdBMQ4UZKSZkHlih2kyFjJrC9ovbUuPCw=</td>\n",
              "      <td>TA8T+qI4rqZoUI3/TbMBc0wMPz+eilajCK9ypO+KWYU=</td>\n",
              "      <td>my library</td>\n",
              "      <td>Local playlist more</td>\n",
              "      <td>local-library</td>\n",
              "      <td>1</td>\n",
              "      <td>I'm Not Yours - feat.安室奈美惠NAMIE AMURO</td>\n",
              "      <td>TWA531457205</td>\n",
              "      <td>1</td>\n",
              "      <td>0</td>\n",
              "      <td>unknown</td>\n",
              "      <td>7</td>\n",
              "      <td>2014-01-10</td>\n",
              "      <td>2017-10-03</td>\n",
              "      <td>2014</td>\n",
              "      <td>1</td>\n",
              "      <td>10</td>\n",
              "      <td>2017</td>\n",
              "      <td>10</td>\n",
              "      <td>3</td>\n",
              "    </tr>\n",
              "    <tr>\n",
              "      <th>1</th>\n",
              "      <td>2280JdzqfTNyOHJOtbwpF2+ulteGeLrKVZlu7aCkju0=</td>\n",
              "      <td>gYCZbvFEc3qOmPpWK1PE/xumcMgf6dhOlDkQ/QrV2uk=</td>\n",
              "      <td>my library</td>\n",
              "      <td>Local playlist more</td>\n",
              "      <td>local-library</td>\n",
              "      <td>0</td>\n",
              "      <td>Tell Me If You Wanna Go Home</td>\n",
              "      <td>USUG11400558</td>\n",
              "      <td>14</td>\n",
              "      <td>65</td>\n",
              "      <td>male</td>\n",
              "      <td>9</td>\n",
              "      <td>2006-02-27</td>\n",
              "      <td>2018-06-10</td>\n",
              "      <td>2006</td>\n",
              "      <td>2</td>\n",
              "      <td>27</td>\n",
              "      <td>2018</td>\n",
              "      <td>6</td>\n",
              "      <td>10</td>\n",
              "    </tr>\n",
              "    <tr>\n",
              "      <th>2</th>\n",
              "      <td>baV/aJPQcAsALgDkWCOvofBw/kYkv+sm73hxsItW0So=</td>\n",
              "      <td>VkDBgh89umc9m6uAEfD6LXngetyGhln4vh/ArCGO0nY=</td>\n",
              "      <td>my library</td>\n",
              "      <td>Local playlist more</td>\n",
              "      <td>local-library</td>\n",
              "      <td>1</td>\n",
              "      <td>如果我們不曾相遇 (What If We Had Never Met)</td>\n",
              "      <td>TWK231680820</td>\n",
              "      <td>1</td>\n",
              "      <td>0</td>\n",
              "      <td>unknown</td>\n",
              "      <td>4</td>\n",
              "      <td>2015-12-02</td>\n",
              "      <td>2017-12-05</td>\n",
              "      <td>2015</td>\n",
              "      <td>12</td>\n",
              "      <td>2</td>\n",
              "      <td>2017</td>\n",
              "      <td>12</td>\n",
              "      <td>5</td>\n",
              "    </tr>\n",
              "    <tr>\n",
              "      <th>3</th>\n",
              "      <td>uyT/naa8TIRJ/YewI2K4WLm71KLxPcFQ1RSTpUb244A=</td>\n",
              "      <td>WsVr4mozaIQq9Tp8Ks0Iir3HIFTQQSpEDO1AmUIzdsc=</td>\n",
              "      <td>discover</td>\n",
              "      <td>Online playlist more</td>\n",
              "      <td>online-playlist</td>\n",
              "      <td>0</td>\n",
              "      <td>傻子</td>\n",
              "      <td>TWD951249101</td>\n",
              "      <td>1</td>\n",
              "      <td>0</td>\n",
              "      <td>unknown</td>\n",
              "      <td>7</td>\n",
              "      <td>2013-12-24</td>\n",
              "      <td>2017-09-23</td>\n",
              "      <td>2013</td>\n",
              "      <td>12</td>\n",
              "      <td>24</td>\n",
              "      <td>2017</td>\n",
              "      <td>9</td>\n",
              "      <td>23</td>\n",
              "    </tr>\n",
              "    <tr>\n",
              "      <th>4</th>\n",
              "      <td>XHJRZV5Xgcub4dNGuzRj5tVfDD1iwrtoXmdQOWtlc3U=</td>\n",
              "      <td>QZBAXY6al7xhjD2fxFWxoZYBPwblMjqax0i611tQTjM=</td>\n",
              "      <td>radio</td>\n",
              "      <td>Radio</td>\n",
              "      <td>radio</td>\n",
              "      <td>1</td>\n",
              "      <td>Say Something Loving</td>\n",
              "      <td>UK7MC1600072</td>\n",
              "      <td>1</td>\n",
              "      <td>0</td>\n",
              "      <td>unknown</td>\n",
              "      <td>9</td>\n",
              "      <td>2016-12-22</td>\n",
              "      <td>2017-09-30</td>\n",
              "      <td>2016</td>\n",
              "      <td>12</td>\n",
              "      <td>22</td>\n",
              "      <td>2017</td>\n",
              "      <td>9</td>\n",
              "      <td>30</td>\n",
              "    </tr>\n",
              "  </tbody>\n",
              "</table>\n",
              "</div>"
            ],
            "text/plain": [
              "                                           msno  \\\n",
              "0  vQ3yfzDw0vBdBMQ4UZKSZkHlih2kyFjJrC9ovbUuPCw=   \n",
              "1  2280JdzqfTNyOHJOtbwpF2+ulteGeLrKVZlu7aCkju0=   \n",
              "2  baV/aJPQcAsALgDkWCOvofBw/kYkv+sm73hxsItW0So=   \n",
              "3  uyT/naa8TIRJ/YewI2K4WLm71KLxPcFQ1RSTpUb244A=   \n",
              "4  XHJRZV5Xgcub4dNGuzRj5tVfDD1iwrtoXmdQOWtlc3U=   \n",
              "\n",
              "                                        song_id source_system_tab  \\\n",
              "0  TA8T+qI4rqZoUI3/TbMBc0wMPz+eilajCK9ypO+KWYU=        my library   \n",
              "1  gYCZbvFEc3qOmPpWK1PE/xumcMgf6dhOlDkQ/QrV2uk=        my library   \n",
              "2  VkDBgh89umc9m6uAEfD6LXngetyGhln4vh/ArCGO0nY=        my library   \n",
              "3  WsVr4mozaIQq9Tp8Ks0Iir3HIFTQQSpEDO1AmUIzdsc=          discover   \n",
              "4  QZBAXY6al7xhjD2fxFWxoZYBPwblMjqax0i611tQTjM=             radio   \n",
              "\n",
              "     source_screen_name      source_type  target  \\\n",
              "0   Local playlist more    local-library       1   \n",
              "1   Local playlist more    local-library       0   \n",
              "2   Local playlist more    local-library       1   \n",
              "3  Online playlist more  online-playlist       0   \n",
              "4                 Radio            radio       1   \n",
              "\n",
              "                                    name          isrc  city  bd   gender  \\\n",
              "0  I'm Not Yours - feat.安室奈美惠NAMIE AMURO  TWA531457205     1   0  unknown   \n",
              "1           Tell Me If You Wanna Go Home  USUG11400558    14  65     male   \n",
              "2    如果我們不曾相遇 (What If We Had Never Met)  TWK231680820     1   0  unknown   \n",
              "3                                     傻子  TWD951249101     1   0  unknown   \n",
              "4                   Say Something Loving  UK7MC1600072     1   0  unknown   \n",
              "\n",
              "   registered_via registration_init_time expiration_date  \\\n",
              "0               7             2014-01-10      2017-10-03   \n",
              "1               9             2006-02-27      2018-06-10   \n",
              "2               4             2015-12-02      2017-12-05   \n",
              "3               7             2013-12-24      2017-09-23   \n",
              "4               9             2016-12-22      2017-09-30   \n",
              "\n",
              "   registration_init_time_year  registration_init_time_month  \\\n",
              "0                         2014                             1   \n",
              "1                         2006                             2   \n",
              "2                         2015                            12   \n",
              "3                         2013                            12   \n",
              "4                         2016                            12   \n",
              "\n",
              "   registration_init_time_day  expiration_date_year  expiration_date_month  \\\n",
              "0                          10                  2017                     10   \n",
              "1                          27                  2018                      6   \n",
              "2                           2                  2017                     12   \n",
              "3                          24                  2017                      9   \n",
              "4                          22                  2017                      9   \n",
              "\n",
              "   expiration_date_day  \n",
              "0                    3  \n",
              "1                   10  \n",
              "2                    5  \n",
              "3                   23  \n",
              "4                   30  "
            ]
          },
          "execution_count": 30,
          "metadata": {},
          "output_type": "execute_result"
        }
      ],
      "source": [
        "train.head()"
      ]
    },
    {
      "cell_type": "code",
      "execution_count": null,
      "id": "855ff9bf",
      "metadata": {
        "id": "855ff9bf"
      },
      "outputs": [],
      "source": [
        "train['registration_init_time']=train['registration_init_time'].astype('category')\n",
        "train['expiration_date']=train['expiration_date'].astype('category')"
      ]
    },
    {
      "cell_type": "code",
      "execution_count": null,
      "id": "bc2242b7",
      "metadata": {
        "id": "bc2242b7",
        "outputId": "b59fbe9a-14d3-4e4c-e190-31f9708ad63c"
      },
      "outputs": [
        {
          "data": {
            "text/html": [
              "<div>\n",
              "<style scoped>\n",
              "    .dataframe tbody tr th:only-of-type {\n",
              "        vertical-align: middle;\n",
              "    }\n",
              "\n",
              "    .dataframe tbody tr th {\n",
              "        vertical-align: top;\n",
              "    }\n",
              "\n",
              "    .dataframe thead th {\n",
              "        text-align: right;\n",
              "    }\n",
              "</style>\n",
              "<table border=\"1\" class=\"dataframe\">\n",
              "  <thead>\n",
              "    <tr style=\"text-align: right;\">\n",
              "      <th></th>\n",
              "      <th>msno</th>\n",
              "      <th>song_id</th>\n",
              "      <th>source_system_tab</th>\n",
              "      <th>source_screen_name</th>\n",
              "      <th>source_type</th>\n",
              "      <th>target</th>\n",
              "      <th>name</th>\n",
              "      <th>isrc</th>\n",
              "      <th>city</th>\n",
              "      <th>bd</th>\n",
              "      <th>gender</th>\n",
              "      <th>registered_via</th>\n",
              "      <th>registration_init_time</th>\n",
              "      <th>expiration_date</th>\n",
              "      <th>registration_init_time_year</th>\n",
              "      <th>registration_init_time_month</th>\n",
              "      <th>registration_init_time_day</th>\n",
              "      <th>expiration_date_year</th>\n",
              "      <th>expiration_date_month</th>\n",
              "      <th>expiration_date_day</th>\n",
              "    </tr>\n",
              "  </thead>\n",
              "  <tbody>\n",
              "    <tr>\n",
              "      <th>0</th>\n",
              "      <td>vQ3yfzDw0vBdBMQ4UZKSZkHlih2kyFjJrC9ovbUuPCw=</td>\n",
              "      <td>TA8T+qI4rqZoUI3/TbMBc0wMPz+eilajCK9ypO+KWYU=</td>\n",
              "      <td>my library</td>\n",
              "      <td>Local playlist more</td>\n",
              "      <td>local-library</td>\n",
              "      <td>1</td>\n",
              "      <td>I'm Not Yours - feat.安室奈美惠NAMIE AMURO</td>\n",
              "      <td>TWA531457205</td>\n",
              "      <td>1</td>\n",
              "      <td>0</td>\n",
              "      <td>unknown</td>\n",
              "      <td>7</td>\n",
              "      <td>2014-01-10</td>\n",
              "      <td>2017-10-03</td>\n",
              "      <td>2014</td>\n",
              "      <td>1</td>\n",
              "      <td>10</td>\n",
              "      <td>2017</td>\n",
              "      <td>10</td>\n",
              "      <td>3</td>\n",
              "    </tr>\n",
              "    <tr>\n",
              "      <th>1</th>\n",
              "      <td>2280JdzqfTNyOHJOtbwpF2+ulteGeLrKVZlu7aCkju0=</td>\n",
              "      <td>gYCZbvFEc3qOmPpWK1PE/xumcMgf6dhOlDkQ/QrV2uk=</td>\n",
              "      <td>my library</td>\n",
              "      <td>Local playlist more</td>\n",
              "      <td>local-library</td>\n",
              "      <td>0</td>\n",
              "      <td>Tell Me If You Wanna Go Home</td>\n",
              "      <td>USUG11400558</td>\n",
              "      <td>14</td>\n",
              "      <td>65</td>\n",
              "      <td>male</td>\n",
              "      <td>9</td>\n",
              "      <td>2006-02-27</td>\n",
              "      <td>2018-06-10</td>\n",
              "      <td>2006</td>\n",
              "      <td>2</td>\n",
              "      <td>27</td>\n",
              "      <td>2018</td>\n",
              "      <td>6</td>\n",
              "      <td>10</td>\n",
              "    </tr>\n",
              "    <tr>\n",
              "      <th>2</th>\n",
              "      <td>baV/aJPQcAsALgDkWCOvofBw/kYkv+sm73hxsItW0So=</td>\n",
              "      <td>VkDBgh89umc9m6uAEfD6LXngetyGhln4vh/ArCGO0nY=</td>\n",
              "      <td>my library</td>\n",
              "      <td>Local playlist more</td>\n",
              "      <td>local-library</td>\n",
              "      <td>1</td>\n",
              "      <td>如果我們不曾相遇 (What If We Had Never Met)</td>\n",
              "      <td>TWK231680820</td>\n",
              "      <td>1</td>\n",
              "      <td>0</td>\n",
              "      <td>unknown</td>\n",
              "      <td>4</td>\n",
              "      <td>2015-12-02</td>\n",
              "      <td>2017-12-05</td>\n",
              "      <td>2015</td>\n",
              "      <td>12</td>\n",
              "      <td>2</td>\n",
              "      <td>2017</td>\n",
              "      <td>12</td>\n",
              "      <td>5</td>\n",
              "    </tr>\n",
              "    <tr>\n",
              "      <th>3</th>\n",
              "      <td>uyT/naa8TIRJ/YewI2K4WLm71KLxPcFQ1RSTpUb244A=</td>\n",
              "      <td>WsVr4mozaIQq9Tp8Ks0Iir3HIFTQQSpEDO1AmUIzdsc=</td>\n",
              "      <td>discover</td>\n",
              "      <td>Online playlist more</td>\n",
              "      <td>online-playlist</td>\n",
              "      <td>0</td>\n",
              "      <td>傻子</td>\n",
              "      <td>TWD951249101</td>\n",
              "      <td>1</td>\n",
              "      <td>0</td>\n",
              "      <td>unknown</td>\n",
              "      <td>7</td>\n",
              "      <td>2013-12-24</td>\n",
              "      <td>2017-09-23</td>\n",
              "      <td>2013</td>\n",
              "      <td>12</td>\n",
              "      <td>24</td>\n",
              "      <td>2017</td>\n",
              "      <td>9</td>\n",
              "      <td>23</td>\n",
              "    </tr>\n",
              "    <tr>\n",
              "      <th>4</th>\n",
              "      <td>XHJRZV5Xgcub4dNGuzRj5tVfDD1iwrtoXmdQOWtlc3U=</td>\n",
              "      <td>QZBAXY6al7xhjD2fxFWxoZYBPwblMjqax0i611tQTjM=</td>\n",
              "      <td>radio</td>\n",
              "      <td>Radio</td>\n",
              "      <td>radio</td>\n",
              "      <td>1</td>\n",
              "      <td>Say Something Loving</td>\n",
              "      <td>UK7MC1600072</td>\n",
              "      <td>1</td>\n",
              "      <td>0</td>\n",
              "      <td>unknown</td>\n",
              "      <td>9</td>\n",
              "      <td>2016-12-22</td>\n",
              "      <td>2017-09-30</td>\n",
              "      <td>2016</td>\n",
              "      <td>12</td>\n",
              "      <td>22</td>\n",
              "      <td>2017</td>\n",
              "      <td>9</td>\n",
              "      <td>30</td>\n",
              "    </tr>\n",
              "  </tbody>\n",
              "</table>\n",
              "</div>"
            ],
            "text/plain": [
              "                                           msno  \\\n",
              "0  vQ3yfzDw0vBdBMQ4UZKSZkHlih2kyFjJrC9ovbUuPCw=   \n",
              "1  2280JdzqfTNyOHJOtbwpF2+ulteGeLrKVZlu7aCkju0=   \n",
              "2  baV/aJPQcAsALgDkWCOvofBw/kYkv+sm73hxsItW0So=   \n",
              "3  uyT/naa8TIRJ/YewI2K4WLm71KLxPcFQ1RSTpUb244A=   \n",
              "4  XHJRZV5Xgcub4dNGuzRj5tVfDD1iwrtoXmdQOWtlc3U=   \n",
              "\n",
              "                                        song_id source_system_tab  \\\n",
              "0  TA8T+qI4rqZoUI3/TbMBc0wMPz+eilajCK9ypO+KWYU=        my library   \n",
              "1  gYCZbvFEc3qOmPpWK1PE/xumcMgf6dhOlDkQ/QrV2uk=        my library   \n",
              "2  VkDBgh89umc9m6uAEfD6LXngetyGhln4vh/ArCGO0nY=        my library   \n",
              "3  WsVr4mozaIQq9Tp8Ks0Iir3HIFTQQSpEDO1AmUIzdsc=          discover   \n",
              "4  QZBAXY6al7xhjD2fxFWxoZYBPwblMjqax0i611tQTjM=             radio   \n",
              "\n",
              "     source_screen_name      source_type  target  \\\n",
              "0   Local playlist more    local-library       1   \n",
              "1   Local playlist more    local-library       0   \n",
              "2   Local playlist more    local-library       1   \n",
              "3  Online playlist more  online-playlist       0   \n",
              "4                 Radio            radio       1   \n",
              "\n",
              "                                    name          isrc  city  bd   gender  \\\n",
              "0  I'm Not Yours - feat.安室奈美惠NAMIE AMURO  TWA531457205     1   0  unknown   \n",
              "1           Tell Me If You Wanna Go Home  USUG11400558    14  65     male   \n",
              "2    如果我們不曾相遇 (What If We Had Never Met)  TWK231680820     1   0  unknown   \n",
              "3                                     傻子  TWD951249101     1   0  unknown   \n",
              "4                   Say Something Loving  UK7MC1600072     1   0  unknown   \n",
              "\n",
              "   registered_via registration_init_time expiration_date  \\\n",
              "0               7             2014-01-10      2017-10-03   \n",
              "1               9             2006-02-27      2018-06-10   \n",
              "2               4             2015-12-02      2017-12-05   \n",
              "3               7             2013-12-24      2017-09-23   \n",
              "4               9             2016-12-22      2017-09-30   \n",
              "\n",
              "   registration_init_time_year  registration_init_time_month  \\\n",
              "0                         2014                             1   \n",
              "1                         2006                             2   \n",
              "2                         2015                            12   \n",
              "3                         2013                            12   \n",
              "4                         2016                            12   \n",
              "\n",
              "   registration_init_time_day  expiration_date_year  expiration_date_month  \\\n",
              "0                          10                  2017                     10   \n",
              "1                          27                  2018                      6   \n",
              "2                           2                  2017                     12   \n",
              "3                          24                  2017                      9   \n",
              "4                          22                  2017                      9   \n",
              "\n",
              "   expiration_date_day  \n",
              "0                    3  \n",
              "1                   10  \n",
              "2                    5  \n",
              "3                   23  \n",
              "4                   30  "
            ]
          },
          "execution_count": 32,
          "metadata": {},
          "output_type": "execute_result"
        }
      ],
      "source": [
        "train.head()"
      ]
    },
    {
      "cell_type": "code",
      "execution_count": null,
      "id": "9e25b9b0",
      "metadata": {
        "id": "9e25b9b0"
      },
      "outputs": [],
      "source": [
        "for col in train.select_dtypes(include=['object']).columns:\n",
        "    train[col] = train[col].astype('category')\n",
        "for col in train.select_dtypes(include=['category']).columns:\n",
        "    train[col] = train[col].cat.codes\n",
        "\n"
      ]
    },
    {
      "cell_type": "code",
      "execution_count": null,
      "id": "853cd8e8",
      "metadata": {
        "id": "853cd8e8",
        "outputId": "39091177-1e66-4440-d8d2-ced31df2f0ef"
      },
      "outputs": [
        {
          "data": {
            "text/html": [
              "<div>\n",
              "<style scoped>\n",
              "    .dataframe tbody tr th:only-of-type {\n",
              "        vertical-align: middle;\n",
              "    }\n",
              "\n",
              "    .dataframe tbody tr th {\n",
              "        vertical-align: top;\n",
              "    }\n",
              "\n",
              "    .dataframe thead th {\n",
              "        text-align: right;\n",
              "    }\n",
              "</style>\n",
              "<table border=\"1\" class=\"dataframe\">\n",
              "  <thead>\n",
              "    <tr style=\"text-align: right;\">\n",
              "      <th></th>\n",
              "      <th>msno</th>\n",
              "      <th>song_id</th>\n",
              "      <th>source_system_tab</th>\n",
              "      <th>source_screen_name</th>\n",
              "      <th>source_type</th>\n",
              "      <th>target</th>\n",
              "      <th>name</th>\n",
              "      <th>isrc</th>\n",
              "      <th>city</th>\n",
              "      <th>bd</th>\n",
              "      <th>gender</th>\n",
              "      <th>registered_via</th>\n",
              "      <th>registration_init_time</th>\n",
              "      <th>expiration_date</th>\n",
              "      <th>registration_init_time_year</th>\n",
              "      <th>registration_init_time_month</th>\n",
              "      <th>registration_init_time_day</th>\n",
              "      <th>expiration_date_year</th>\n",
              "      <th>expiration_date_month</th>\n",
              "      <th>expiration_date_day</th>\n",
              "    </tr>\n",
              "  </thead>\n",
              "  <tbody>\n",
              "    <tr>\n",
              "      <th>0</th>\n",
              "      <td>17502</td>\n",
              "      <td>13500</td>\n",
              "      <td>3</td>\n",
              "      <td>7</td>\n",
              "      <td>3</td>\n",
              "      <td>1</td>\n",
              "      <td>4883</td>\n",
              "      <td>11853</td>\n",
              "      <td>1</td>\n",
              "      <td>0</td>\n",
              "      <td>2</td>\n",
              "      <td>7</td>\n",
              "      <td>2545</td>\n",
              "      <td>599</td>\n",
              "      <td>2014</td>\n",
              "      <td>1</td>\n",
              "      <td>10</td>\n",
              "      <td>2017</td>\n",
              "      <td>10</td>\n",
              "      <td>3</td>\n",
              "    </tr>\n",
              "    <tr>\n",
              "      <th>1</th>\n",
              "      <td>1115</td>\n",
              "      <td>19306</td>\n",
              "      <td>3</td>\n",
              "      <td>7</td>\n",
              "      <td>3</td>\n",
              "      <td>0</td>\n",
              "      <td>9883</td>\n",
              "      <td>21005</td>\n",
              "      <td>14</td>\n",
              "      <td>65</td>\n",
              "      <td>1</td>\n",
              "      <td>9</td>\n",
              "      <td>334</td>\n",
              "      <td>848</td>\n",
              "      <td>2006</td>\n",
              "      <td>2</td>\n",
              "      <td>27</td>\n",
              "      <td>2018</td>\n",
              "      <td>6</td>\n",
              "      <td>10</td>\n",
              "    </tr>\n",
              "    <tr>\n",
              "      <th>2</th>\n",
              "      <td>11606</td>\n",
              "      <td>14533</td>\n",
              "      <td>3</td>\n",
              "      <td>7</td>\n",
              "      <td>3</td>\n",
              "      <td>1</td>\n",
              "      <td>15340</td>\n",
              "      <td>16008</td>\n",
              "      <td>1</td>\n",
              "      <td>0</td>\n",
              "      <td>2</td>\n",
              "      <td>4</td>\n",
              "      <td>3235</td>\n",
              "      <td>662</td>\n",
              "      <td>2015</td>\n",
              "      <td>12</td>\n",
              "      <td>2</td>\n",
              "      <td>2017</td>\n",
              "      <td>12</td>\n",
              "      <td>5</td>\n",
              "    </tr>\n",
              "    <tr>\n",
              "      <th>3</th>\n",
              "      <td>17355</td>\n",
              "      <td>15031</td>\n",
              "      <td>0</td>\n",
              "      <td>10</td>\n",
              "      <td>6</td>\n",
              "      <td>0</td>\n",
              "      <td>13557</td>\n",
              "      <td>14518</td>\n",
              "      <td>1</td>\n",
              "      <td>0</td>\n",
              "      <td>2</td>\n",
              "      <td>7</td>\n",
              "      <td>2528</td>\n",
              "      <td>589</td>\n",
              "      <td>2013</td>\n",
              "      <td>12</td>\n",
              "      <td>24</td>\n",
              "      <td>2017</td>\n",
              "      <td>9</td>\n",
              "      <td>23</td>\n",
              "    </tr>\n",
              "    <tr>\n",
              "      <th>4</th>\n",
              "      <td>10315</td>\n",
              "      <td>12345</td>\n",
              "      <td>5</td>\n",
              "      <td>12</td>\n",
              "      <td>7</td>\n",
              "      <td>1</td>\n",
              "      <td>8643</td>\n",
              "      <td>17780</td>\n",
              "      <td>1</td>\n",
              "      <td>0</td>\n",
              "      <td>2</td>\n",
              "      <td>9</td>\n",
              "      <td>3555</td>\n",
              "      <td>596</td>\n",
              "      <td>2016</td>\n",
              "      <td>12</td>\n",
              "      <td>22</td>\n",
              "      <td>2017</td>\n",
              "      <td>9</td>\n",
              "      <td>30</td>\n",
              "    </tr>\n",
              "  </tbody>\n",
              "</table>\n",
              "</div>"
            ],
            "text/plain": [
              "    msno  song_id  source_system_tab  source_screen_name  source_type  target  \\\n",
              "0  17502    13500                  3                   7            3       1   \n",
              "1   1115    19306                  3                   7            3       0   \n",
              "2  11606    14533                  3                   7            3       1   \n",
              "3  17355    15031                  0                  10            6       0   \n",
              "4  10315    12345                  5                  12            7       1   \n",
              "\n",
              "    name   isrc  city  bd  gender  registered_via  registration_init_time  \\\n",
              "0   4883  11853     1   0       2               7                    2545   \n",
              "1   9883  21005    14  65       1               9                     334   \n",
              "2  15340  16008     1   0       2               4                    3235   \n",
              "3  13557  14518     1   0       2               7                    2528   \n",
              "4   8643  17780     1   0       2               9                    3555   \n",
              "\n",
              "   expiration_date  registration_init_time_year  registration_init_time_month  \\\n",
              "0              599                         2014                             1   \n",
              "1              848                         2006                             2   \n",
              "2              662                         2015                            12   \n",
              "3              589                         2013                            12   \n",
              "4              596                         2016                            12   \n",
              "\n",
              "   registration_init_time_day  expiration_date_year  expiration_date_month  \\\n",
              "0                          10                  2017                     10   \n",
              "1                          27                  2018                      6   \n",
              "2                           2                  2017                     12   \n",
              "3                          24                  2017                      9   \n",
              "4                          22                  2017                      9   \n",
              "\n",
              "   expiration_date_day  \n",
              "0                    3  \n",
              "1                   10  \n",
              "2                    5  \n",
              "3                   23  \n",
              "4                   30  "
            ]
          },
          "execution_count": 34,
          "metadata": {},
          "output_type": "execute_result"
        }
      ],
      "source": [
        "train.head()"
      ]
    },
    {
      "cell_type": "code",
      "execution_count": null,
      "id": "afbfbaab",
      "metadata": {
        "id": "afbfbaab",
        "outputId": "52490cfb-2a8e-4784-aa17-47bad4251572"
      },
      "outputs": [
        {
          "data": {
            "image/png": "[encoded data removed]",
            "text/plain": [
              "<Figure size 800x800 with 2 Axes>"
            ]
          },
          "metadata": {},
          "output_type": "display_data"
        }
      ],
      "source": [
        "plt.figure(figsize = [8,8])\n",
        "sns.heatmap(train.corr())\n",
        "plt.show()"
      ]
    },
    {
      "cell_type": "code",
      "execution_count": null,
      "id": "894bcc73",
      "metadata": {
        "id": "894bcc73",
        "outputId": "eaeeeb10-f5e2-4df8-9d6a-3c3d2553fdad"
      },
      "outputs": [
        {
          "name": "stderr",
          "output_type": "stream",
          "text": [
            "C:\\Users\\khirran\\AppData\\Local\\Temp\\ipykernel_7220\\209286139.py:1: FutureWarning: In a future version of pandas all arguments of DataFrame.drop except for the argument 'labels' will be keyword-only.\n",
            "  train = train.drop(['expiration_date'],1)\n"
          ]
        }
      ],
      "source": [
        "train = train.drop(['expiration_date'],1)"
      ]
    },
    {
      "cell_type": "code",
      "execution_count": null,
      "id": "28a5f39e",
      "metadata": {
        "id": "28a5f39e",
        "outputId": "32eee11b-9496-4d71-8ff5-50ff19ba19ae"
      },
      "outputs": [
        {
          "data": {
            "text/plain": [
              "(73774, 19)"
            ]
          },
          "execution_count": 37,
          "metadata": {},
          "output_type": "execute_result"
        }
      ],
      "source": [
        "train.shape"
      ]
    },
    {
      "cell_type": "code",
      "execution_count": null,
      "id": "eeea0f01",
      "metadata": {
        "id": "eeea0f01"
      },
      "outputs": [],
      "source": [
        "train_a = train.copy()"
      ]
    },
    {
      "cell_type": "code",
      "execution_count": null,
      "id": "5602821d",
      "metadata": {
        "id": "5602821d"
      },
      "outputs": [],
      "source": [
        "X_train = train_a.drop(['target'],axis= 1).values\n",
        "Y_train = train_a['target'].values"
      ]
    },
    {
      "cell_type": "code",
      "execution_count": null,
      "id": "2b33c753",
      "metadata": {
        "id": "2b33c753",
        "outputId": "00ebae47-0709-4a6b-c22f-11babaf75079"
      },
      "outputs": [
        {
          "data": {
            "text/plain": [
              "(73774, 18)"
            ]
          },
          "execution_count": 40,
          "metadata": {},
          "output_type": "execute_result"
        }
      ],
      "source": [
        "X_train.shape"
      ]
    },
    {
      "cell_type": "code",
      "execution_count": null,
      "id": "bb3d198e",
      "metadata": {
        "id": "bb3d198e",
        "outputId": "58a95dfc-f927-4d38-9705-5bc0fbe508c5"
      },
      "outputs": [
        {
          "data": {
            "text/plain": [
              "(73774,)"
            ]
          },
          "execution_count": 41,
          "metadata": {},
          "output_type": "execute_result"
        }
      ],
      "source": [
        "Y_train.shape"
      ]
    },
    {
      "cell_type": "code",
      "execution_count": null,
      "id": "19082709",
      "metadata": {
        "id": "19082709"
      },
      "outputs": [],
      "source": [
        "x_train,x_test,y_train,y_test = train_test_split(X_train,Y_train,test_size = 0.25)"
      ]
    },
    {
      "cell_type": "code",
      "execution_count": null,
      "id": "e58b299d",
      "metadata": {
        "id": "e58b299d",
        "outputId": "c8b2092c-fda5-48d1-d405-10189767723c"
      },
      "outputs": [
        {
          "data": {
            "text/html": [
              "<style>#sk-container-id-1 {color: black;background-color: white;}#sk-container-id-1 pre{padding: 0;}#sk-container-id-1 div.sk-toggleable {background-color: white;}#sk-container-id-1 label.sk-toggleable__label {cursor: pointer;display: block;width: 100%;margin-bottom: 0;padding: 0.3em;box-sizing: border-box;text-align: center;}#sk-container-id-1 label.sk-toggleable__label-arrow:before {content: \"▸\";float: left;margin-right: 0.25em;color: #696969;}#sk-container-id-1 label.sk-toggleable__label-arrow:hover:before {color: black;}#sk-container-id-1 div.sk-estimator:hover label.sk-toggleable__label-arrow:before {color: black;}#sk-container-id-1 div.sk-toggleable__content {max-height: 0;max-width: 0;overflow: hidden;text-align: left;background-color: #f0f8ff;}#sk-container-id-1 div.sk-toggleable__content pre {margin: 0.2em;color: black;border-radius: 0.25em;background-color: #f0f8ff;}#sk-container-id-1 input.sk-toggleable__control:checked~div.sk-toggleable__content {max-height: 200px;max-width: 100%;overflow: auto;}#sk-container-id-1 input.sk-toggleable__control:checked~label.sk-toggleable__label-arrow:before {content: \"▾\";}#sk-container-id-1 div.sk-estimator input.sk-toggleable__control:checked~label.sk-toggleable__label {background-color: #d4ebff;}#sk-container-id-1 div.sk-label input.sk-toggleable__control:checked~label.sk-toggleable__label {background-color: #d4ebff;}#sk-container-id-1 input.sk-hidden--visually {border: 0;clip: rect(1px 1px 1px 1px);clip: rect(1px, 1px, 1px, 1px);height: 1px;margin: -1px;overflow: hidden;padding: 0;position: absolute;width: 1px;}#sk-container-id-1 div.sk-estimator {font-family: monospace;background-color: #f0f8ff;border: 1px dotted black;border-radius: 0.25em;box-sizing: border-box;margin-bottom: 0.5em;}#sk-container-id-1 div.sk-estimator:hover {background-color: #d4ebff;}#sk-container-id-1 div.sk-parallel-item::after {content: \"\";width: 100%;border-bottom: 1px solid gray;flex-grow: 1;}#sk-container-id-1 div.sk-label:hover label.sk-toggleable__label {background-color: #d4ebff;}#sk-container-id-1 div.sk-serial::before {content: \"\";position: absolute;border-left: 1px solid gray;box-sizing: border-box;top: 0;bottom: 0;left: 50%;z-index: 0;}#sk-container-id-1 div.sk-serial {display: flex;flex-direction: column;align-items: center;background-color: white;padding-right: 0.2em;padding-left: 0.2em;position: relative;}#sk-container-id-1 div.sk-item {position: relative;z-index: 1;}#sk-container-id-1 div.sk-parallel {display: flex;align-items: stretch;justify-content: center;background-color: white;position: relative;}#sk-container-id-1 div.sk-item::before, #sk-container-id-1 div.sk-parallel-item::before {content: \"\";position: absolute;border-left: 1px solid gray;box-sizing: border-box;top: 0;bottom: 0;left: 50%;z-index: -1;}#sk-container-id-1 div.sk-parallel-item {display: flex;flex-direction: column;z-index: 1;position: relative;background-color: white;}#sk-container-id-1 div.sk-parallel-item:first-child::after {align-self: flex-end;width: 50%;}#sk-container-id-1 div.sk-parallel-item:last-child::after {align-self: flex-start;width: 50%;}#sk-container-id-1 div.sk-parallel-item:only-child::after {width: 0;}#sk-container-id-1 div.sk-dashed-wrapped {border: 1px dashed gray;margin: 0 0.4em 0.5em 0.4em;box-sizing: border-box;padding-bottom: 0.4em;background-color: white;}#sk-container-id-1 div.sk-label label {font-family: monospace;font-weight: bold;display: inline-block;line-height: 1.2em;}#sk-container-id-1 div.sk-label-container {text-align: center;}#sk-container-id-1 div.sk-container {/* jupyter's `normalize.less` sets `[hidden] { display: none; }` but bootstrap.min.css set `[hidden] { display: none !important; }` so we also need the `!important` here to be able to override the default hidden behavior on the sphinx rendered scikit-learn.org. See: https://github.com/scikit-learn/scikit-learn/issues/21755 */display: inline-block !important;position: relative;}#sk-container-id-1 div.sk-text-repr-fallback {display: none;}</style><div id=\"sk-container-id-1\" class=\"sk-top-container\"><div class=\"sk-text-repr-fallback\"><pre>RandomForestClassifier(max_depth=25, n_estimators=250, random_state=0)</pre><b>In a Jupyter environment, please rerun this cell to show the HTML representation or trust the notebook. <br />On GitHub, the HTML representation is unable to render, please try loading this page with nbviewer.org.</b></div><div class=\"sk-container\" hidden><div class=\"sk-item\"><div class=\"sk-estimator sk-toggleable\"><input class=\"sk-toggleable__control sk-hidden--visually\" id=\"sk-estimator-id-1\" type=\"checkbox\" checked><label for=\"sk-estimator-id-1\" class=\"sk-toggleable__label sk-toggleable__label-arrow\">RandomForestClassifier</label><div class=\"sk-toggleable__content\"><pre>RandomForestClassifier(max_depth=25, n_estimators=250, random_state=0)</pre></div></div></div></div></div>"
            ],
            "text/plain": [
              "RandomForestClassifier(max_depth=25, n_estimators=250, random_state=0)"
            ]
          },
          "execution_count": 43,
          "metadata": {},
          "output_type": "execute_result"
        }
      ],
      "source": [
        "from sklearn.ensemble import RandomForestClassifier\n",
        "classifier = RandomForestClassifier(n_estimators=250,max_depth = 25, random_state =0)\n",
        "classifier.fit(X_train,Y_train)"
      ]
    },
    {
      "cell_type": "code",
      "execution_count": null,
      "id": "06d38474",
      "metadata": {
        "id": "06d38474"
      },
      "outputs": [],
      "source": [
        "train_plot = pd.DataFrame({'Features': train.columns[train.columns != 'target'],\n",
        "                           'importances': classifier.feature_importances_})\n",
        "\n",
        "train_plot = train_plot.sort_values('importances', ascending=False)"
      ]
    },
    {
      "cell_type": "code",
      "execution_count": null,
      "id": "516ba74c",
      "metadata": {
        "id": "516ba74c"
      },
      "outputs": [],
      "source": [
        "#train_plot = pd.DataFrame({'Features': train.columns[train.columns!='traget'],'importances': classifier.feature_importances_})\n",
        "#train_plot = train_plot.sort_values('importances',ascending = False)"
      ]
    },
    {
      "cell_type": "code",
      "execution_count": null,
      "id": "ecba546b",
      "metadata": {
        "id": "ecba546b",
        "outputId": "83882ff6-3a30-4e27-eb9d-e4ceec750c2a"
      },
      "outputs": [
        {
          "data": {
            "image/png": "[encoded data removed]",
            "text/plain": [
              "<Figure size 1100x500 with 1 Axes>"
            ]
          },
          "metadata": {},
          "output_type": "display_data"
        }
      ],
      "source": [
        "plt.figure(figsize = [11,5])\n",
        "sns.barplot(x=train_plot.importances,y=train_plot.Features)\n",
        "plt.title('Features Plot')\n",
        "plt.show()"
      ]
    },
    {
      "cell_type": "code",
      "execution_count": null,
      "id": "15876502",
      "metadata": {
        "id": "15876502"
      },
      "outputs": [],
      "source": [
        "train_b = train.copy()"
      ]
    },
    {
      "cell_type": "code",
      "execution_count": null,
      "id": "cca04393",
      "metadata": {
        "id": "cca04393",
        "outputId": "c5cfd57d-a524-4601-e0e3-f88be9baeafe"
      },
      "outputs": [
        {
          "name": "stderr",
          "output_type": "stream",
          "text": [
            "C:\\Users\\khirran\\AppData\\Local\\Temp\\ipykernel_7220\\4056734553.py:1: FutureWarning: In a future version of pandas all arguments of DataFrame.drop except for the argument 'labels' will be keyword-only.\n",
            "  train_b = train_b.drop(train_plot.Features[train_plot.importances < 0.04].tolist(),1)\n"
          ]
        }
      ],
      "source": [
        "train_b = train_b.drop(train_plot.Features[train_plot.importances < 0.04].tolist(),1)"
      ]
    },
    {
      "cell_type": "code",
      "execution_count": null,
      "id": "8fea2539",
      "metadata": {
        "id": "8fea2539",
        "outputId": "6087b67c-6169-41c1-f64e-f21b9f0ced83"
      },
      "outputs": [
        {
          "data": {
            "text/plain": [
              "Index(['msno', 'song_id', 'source_screen_name', 'source_type', 'target',\n",
              "       'name', 'isrc', 'bd', 'registration_init_time',\n",
              "       'registration_init_time_month', 'registration_init_time_day',\n",
              "       'expiration_date_day'],\n",
              "      dtype='object')"
            ]
          },
          "execution_count": 51,
          "metadata": {},
          "output_type": "execute_result"
        }
      ],
      "source": [
        "train_b.columns"
      ]
    },
    {
      "cell_type": "code",
      "execution_count": null,
      "id": "1916e09b",
      "metadata": {
        "id": "1916e09b"
      },
      "outputs": [],
      "source": [
        "train_b = train.copy()"
      ]
    },
    {
      "cell_type": "code",
      "execution_count": null,
      "id": "21b127e7",
      "metadata": {
        "id": "21b127e7"
      },
      "outputs": [],
      "source": [
        "X = train_b.drop(['target'],axis = 1).values\n",
        "Y = train_b['target'].values"
      ]
    },
    {
      "cell_type": "code",
      "execution_count": null,
      "id": "43c40b8e",
      "metadata": {
        "id": "43c40b8e"
      },
      "outputs": [],
      "source": [
        "x_train,x_test,y_train,y_test = train_test_split(X,Y,test_size = 0.25)"
      ]
    },
    {
      "cell_type": "code",
      "execution_count": null,
      "id": "2491dd10",
      "metadata": {
        "id": "2491dd10",
        "outputId": "b228ad12-0524-43f4-96cb-3dd8c8056655"
      },
      "outputs": [
        {
          "name": "stdout",
          "output_type": "stream",
          "text": [
            "[10:37:49] WARNING: C:\\buildkite-agent\\builds\\buildkite-windows-cpu-autoscaling-group-i-0fdc6d574b9c0d168-1\\xgboost\\xgboost-ci-windows\\src\\learner.cc:767: \n",
            "Parameters: { \"max_depths\" } are not used.\n",
            "\n"
          ]
        },
        {
          "data": {
            "text/html": [
              "<style>#sk-container-id-2 {color: black;background-color: white;}#sk-container-id-2 pre{padding: 0;}#sk-container-id-2 div.sk-toggleable {background-color: white;}#sk-container-id-2 label.sk-toggleable__label {cursor: pointer;display: block;width: 100%;margin-bottom: 0;padding: 0.3em;box-sizing: border-box;text-align: center;}#sk-container-id-2 label.sk-toggleable__label-arrow:before {content: \"▸\";float: left;margin-right: 0.25em;color: #696969;}#sk-container-id-2 label.sk-toggleable__label-arrow:hover:before {color: black;}#sk-container-id-2 div.sk-estimator:hover label.sk-toggleable__label-arrow:before {color: black;}#sk-container-id-2 div.sk-toggleable__content {max-height: 0;max-width: 0;overflow: hidden;text-align: left;background-color: #f0f8ff;}#sk-container-id-2 div.sk-toggleable__content pre {margin: 0.2em;color: black;border-radius: 0.25em;background-color: #f0f8ff;}#sk-container-id-2 input.sk-toggleable__control:checked~div.sk-toggleable__content {max-height: 200px;max-width: 100%;overflow: auto;}#sk-container-id-2 input.sk-toggleable__control:checked~label.sk-toggleable__label-arrow:before {content: \"▾\";}#sk-container-id-2 div.sk-estimator input.sk-toggleable__control:checked~label.sk-toggleable__label {background-color: #d4ebff;}#sk-container-id-2 div.sk-label input.sk-toggleable__control:checked~label.sk-toggleable__label {background-color: #d4ebff;}#sk-container-id-2 input.sk-hidden--visually {border: 0;clip: rect(1px 1px 1px 1px);clip: rect(1px, 1px, 1px, 1px);height: 1px;margin: -1px;overflow: hidden;padding: 0;position: absolute;width: 1px;}#sk-container-id-2 div.sk-estimator {font-family: monospace;background-color: #f0f8ff;border: 1px dotted black;border-radius: 0.25em;box-sizing: border-box;margin-bottom: 0.5em;}#sk-container-id-2 div.sk-estimator:hover {background-color: #d4ebff;}#sk-container-id-2 div.sk-parallel-item::after {content: \"\";width: 100%;border-bottom: 1px solid gray;flex-grow: 1;}#sk-container-id-2 div.sk-label:hover label.sk-toggleable__label {background-color: #d4ebff;}#sk-container-id-2 div.sk-serial::before {content: \"\";position: absolute;border-left: 1px solid gray;box-sizing: border-box;top: 0;bottom: 0;left: 50%;z-index: 0;}#sk-container-id-2 div.sk-serial {display: flex;flex-direction: column;align-items: center;background-color: white;padding-right: 0.2em;padding-left: 0.2em;position: relative;}#sk-container-id-2 div.sk-item {position: relative;z-index: 1;}#sk-container-id-2 div.sk-parallel {display: flex;align-items: stretch;justify-content: center;background-color: white;position: relative;}#sk-container-id-2 div.sk-item::before, #sk-container-id-2 div.sk-parallel-item::before {content: \"\";position: absolute;border-left: 1px solid gray;box-sizing: border-box;top: 0;bottom: 0;left: 50%;z-index: -1;}#sk-container-id-2 div.sk-parallel-item {display: flex;flex-direction: column;z-index: 1;position: relative;background-color: white;}#sk-container-id-2 div.sk-parallel-item:first-child::after {align-self: flex-end;width: 50%;}#sk-container-id-2 div.sk-parallel-item:last-child::after {align-self: flex-start;width: 50%;}#sk-container-id-2 div.sk-parallel-item:only-child::after {width: 0;}#sk-container-id-2 div.sk-dashed-wrapped {border: 1px dashed gray;margin: 0 0.4em 0.5em 0.4em;box-sizing: border-box;padding-bottom: 0.4em;background-color: white;}#sk-container-id-2 div.sk-label label {font-family: monospace;font-weight: bold;display: inline-block;line-height: 1.2em;}#sk-container-id-2 div.sk-label-container {text-align: center;}#sk-container-id-2 div.sk-container {/* jupyter's `normalize.less` sets `[hidden] { display: none; }` but bootstrap.min.css set `[hidden] { display: none !important; }` so we also need the `!important` here to be able to override the default hidden behavior on the sphinx rendered scikit-learn.org. See: https://github.com/scikit-learn/scikit-learn/issues/21755 */display: inline-block !important;position: relative;}#sk-container-id-2 div.sk-text-repr-fallback {display: none;}</style><div id=\"sk-container-id-2\" class=\"sk-top-container\"><div class=\"sk-text-repr-fallback\"><pre>XGBClassifier(base_score=None, booster=None, callbacks=None,\n",
              "              colsample_bylevel=None, colsample_bynode=None,\n",
              "              colsample_bytree=None, early_stopping_rounds=None,\n",
              "              enable_categorical=False, eval_metric=None, feature_types=None,\n",
              "              gamma=None, gpu_id=None, grow_policy=None, importance_type=None,\n",
              "              interaction_constraints=None, learning_rate=0.1, max_bin=None,\n",
              "              max_cat_threshold=None, max_cat_to_onehot=None,\n",
              "              max_delta_step=None, max_depth=None, max_depths=15,\n",
              "              max_leaves=None, min_child_weight=5, missing=nan,\n",
              "              monotone_constraints=None, n_estimators=250, n_jobs=None,\n",
              "              num_parallel_tree=None, predictor=None, ...)</pre><b>In a Jupyter environment, please rerun this cell to show the HTML representation or trust the notebook. <br />On GitHub, the HTML representation is unable to render, please try loading this page with nbviewer.org.</b></div><div class=\"sk-container\" hidden><div class=\"sk-item\"><div class=\"sk-estimator sk-toggleable\"><input class=\"sk-toggleable__control sk-hidden--visually\" id=\"sk-estimator-id-2\" type=\"checkbox\" checked><label for=\"sk-estimator-id-2\" class=\"sk-toggleable__label sk-toggleable__label-arrow\">XGBClassifier</label><div class=\"sk-toggleable__content\"><pre>XGBClassifier(base_score=None, booster=None, callbacks=None,\n",
              "              colsample_bylevel=None, colsample_bynode=None,\n",
              "              colsample_bytree=None, early_stopping_rounds=None,\n",
              "              enable_categorical=False, eval_metric=None, feature_types=None,\n",
              "              gamma=None, gpu_id=None, grow_policy=None, importance_type=None,\n",
              "              interaction_constraints=None, learning_rate=0.1, max_bin=None,\n",
              "              max_cat_threshold=None, max_cat_to_onehot=None,\n",
              "              max_delta_step=None, max_depth=None, max_depths=15,\n",
              "              max_leaves=None, min_child_weight=5, missing=nan,\n",
              "              monotone_constraints=None, n_estimators=250, n_jobs=None,\n",
              "              num_parallel_tree=None, predictor=None, ...)</pre></div></div></div></div></div>"
            ],
            "text/plain": [
              "XGBClassifier(base_score=None, booster=None, callbacks=None,\n",
              "              colsample_bylevel=None, colsample_bynode=None,\n",
              "              colsample_bytree=None, early_stopping_rounds=None,\n",
              "              enable_categorical=False, eval_metric=None, feature_types=None,\n",
              "              gamma=None, gpu_id=None, grow_policy=None, importance_type=None,\n",
              "              interaction_constraints=None, learning_rate=0.1, max_bin=None,\n",
              "              max_cat_threshold=None, max_cat_to_onehot=None,\n",
              "              max_delta_step=None, max_depth=None, max_depths=15,\n",
              "              max_leaves=None, min_child_weight=5, missing=nan,\n",
              "              monotone_constraints=None, n_estimators=250, n_jobs=None,\n",
              "              num_parallel_tree=None, predictor=None, ...)"
            ]
          },
          "execution_count": 55,
          "metadata": {},
          "output_type": "execute_result"
        }
      ],
      "source": [
        "model_b = xgb.XGBClassifier(learning_rate = 0.1,max_depths = 15,min_child_weight = 5, n_estimators = 250)\n",
        "model_b.fit(X,Y)"
      ]
    },
    {
      "cell_type": "code",
      "execution_count": null,
      "id": "ce11999a",
      "metadata": {
        "id": "ce11999a",
        "outputId": "d3f5f40c-7dc0-4bb0-cc6b-ad99a0597dea"
      },
      "outputs": [
        {
          "data": {
            "text/plain": [
              "(73774, 18)"
            ]
          },
          "execution_count": 56,
          "metadata": {},
          "output_type": "execute_result"
        }
      ],
      "source": [
        "X.shape"
      ]
    },
    {
      "cell_type": "code",
      "execution_count": null,
      "id": "bec3912d",
      "metadata": {
        "id": "bec3912d"
      },
      "outputs": [],
      "source": [
        "Prediction = model_b.predict(x_test)"
      ]
    },
    {
      "cell_type": "code",
      "execution_count": null,
      "id": "3bf4fa51",
      "metadata": {
        "id": "3bf4fa51"
      },
      "outputs": [],
      "source": [
        "from sklearn import metrics"
      ]
    },
    {
      "cell_type": "code",
      "execution_count": null,
      "id": "521f28c4",
      "metadata": {
        "id": "521f28c4",
        "outputId": "52540cc4-ac1d-4a73-8451-643720cd5d27"
      },
      "outputs": [
        {
          "name": "stdout",
          "output_type": "stream",
          "text": [
            "              precision    recall  f1-score   support\n",
            "\n",
            "           0       0.71      0.68      0.70      9230\n",
            "           1       0.69      0.72      0.71      9214\n",
            "\n",
            "    accuracy                           0.70     18444\n",
            "   macro avg       0.70      0.70      0.70     18444\n",
            "weighted avg       0.70      0.70      0.70     18444\n",
            "\n"
          ]
        }
      ],
      "source": [
        "print(metrics.classification_report(y_test,Prediction))"
      ]
    }
  ],
  "metadata": {
    "kernelspec": {
      "display_name": "Python 3 (ipykernel)",
      "language": "python",
      "name": "python3"
    },
    "language_info": {
      "codemirror_mode": {
        "name": "ipython",
        "version": 3
      },
      "file_extension": ".py",
      "mimetype": "text/x-python",
      "name": "python",
      "nbconvert_exporter": "python",
      "pygments_lexer": "ipython3",
      "version": "3.10.9"
    },
    "colab": {
      "provenance": [],
      "include_colab_link": true
    }
  },
  "nbformat": 4,
  "nbformat_minor": 5
}